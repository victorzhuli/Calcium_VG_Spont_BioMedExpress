{
 "cells": [
  {
   "cell_type": "code",
   "execution_count": 2,
   "metadata": {
    "collapsed": false
   },
   "outputs": [
    {
     "name": "stderr",
     "output_type": "stream",
     "text": [
      "[INFO] graphlab.cython.cy_server: GraphLab Create v2.1 started. Logging: /tmp/graphlab_server_1489275156.log\n"
     ]
    },
    {
     "name": "stdout",
     "output_type": "stream",
     "text": [
      "This non-commercial license of GraphLab Create for academic use is assigned to victor.li.zhu@rutgers.edu and will expire on October 06, 2017.\n"
     ]
    }
   ],
   "source": [
    "import graphlab as gl\n",
    "import numpy as np\n",
    "import matplotlib.pyplot as plt\n"
   ]
  },
  {
   "cell_type": "code",
   "execution_count": 3,
   "metadata": {
    "collapsed": false
   },
   "outputs": [],
   "source": [
    "def sig(t):\n",
    "    sig = 1. / (1+np.exp(-t))\n",
    "    return sig"
   ]
  },
  {
   "cell_type": "code",
   "execution_count": 3,
   "metadata": {
    "collapsed": false
   },
   "outputs": [
    {
     "name": "stdout",
     "output_type": "stream",
     "text": [
      "Canvas is accessible via web browser at the URL: http://localhost:56881/index.html\n",
      "Opening Canvas in default web browser.\n"
     ]
    }
   ],
   "source": [
    "# comb = gl.SFrame.read_csv('/Users/lizhu/Dropbox/projects/calcium/VG_result/combined_feature_vectors_windowLen300_winStep_050_v2_threshold_10.csv', delimiter=',',header=False,verbose = False)\n",
    "comb = gl.SFrame.read_csv('/Users/lizhu/Dropbox/projects/calcium/format4ML/format4ML_GC6f_emx_06_windowLen200_winStep_050_v2_threshold_10.csv', delimiter=',',header=False,verbose = False)\n",
    "colName_dg = 'degree'\n",
    "colName_dg = gl.SArray([colName_dg + repr(i+1) for i in range(30)])\n",
    "\n",
    "colName_cc = 'clusteringCoef'\n",
    "colName_cc = gl.SArray([colName_cc + repr(i+1) for i in range(30)])\n",
    "\n",
    "colName_pl = 'pathlength'\n",
    "colName_pl = gl.SArray([colName_pl + repr(i+1) for i in range(30)])\n",
    "\n",
    "colName = colName_dg.append(colName_cc.append(colName_pl.append(gl.SArray(['Whisker_lab','Whisker_cont','Pupil_lab','Pupil_cont' ]))))\n",
    "colName = (list(colName))\n",
    "\n",
    "\n",
    "dictionary = dict(zip(comb.column_names(), colName))\n",
    "comb = comb.rename(dictionary)\n",
    "comb = gl.toolkits.cross_validation.shuffle(comb, random_seed=1)\n",
    "\n",
    "comb['Whisker_lab'].show(view = 'Categorical')"
   ]
  },
  {
   "cell_type": "code",
   "execution_count": 4,
   "metadata": {
    "collapsed": false
   },
   "outputs": [],
   "source": [
    "# NOTE：run the functions below before running this section!!!\n",
    "feature = comb.column_names()[0:90]\n",
    "# feature 1~30: degree, 31~60: clustering coefficient, 60~90: pathlength\n",
    "label = 'Whisker_lab'\n",
    "l2_penalty = 0.05\n",
    "# acc,SE,SP = lz_logistic(comb, feature, label, l2_penalty)"
   ]
  },
  {
   "cell_type": "code",
   "execution_count": 5,
   "metadata": {
    "collapsed": false
   },
   "outputs": [],
   "source": [
    "folds = gl.cross_validation.KFold(comb, 5)\n",
    "SE=[None]*5\n",
    "SP=[None]*5\n",
    "acc=[None]*5\n",
    "# print specificity\n",
    "\n",
    "data_train = comb[0:100]\n",
    "data_test  = comb[100:110]\n",
    "\n",
    "m = gl.logistic_classifier.create(data_train,\n",
    "                              target=label,\n",
    "                              features=feature,\n",
    "                              l2_penalty = l2_penalty,\n",
    "                              validation_set=None,\n",
    "                              verbose = False)\n",
    "results          = m.evaluate(data_test)"
   ]
  },
  {
   "cell_type": "code",
   "execution_count": 11,
   "metadata": {
    "collapsed": false
   },
   "outputs": [
    {
     "name": "stdout",
     "output_type": "stream",
     "text": [
      "(100001,)\n"
     ]
    },
    {
     "data": {
      "text/plain": [
       "[0, 1, 2, 3, 4, 5]"
      ]
     },
     "execution_count": 11,
     "metadata": {},
     "output_type": "execute_result"
    }
   ],
   "source": [
    "roc = results['roc_curve']\n",
    "# roc = roc.to_numpy()\n",
    "\n",
    "# false_positive_rate\n",
    "x = roc['fpr']\n",
    "# true_positive_rate \n",
    "y = roc['tpr']\n",
    "\n",
    "print (x.shape)\n",
    "# plt.plot(x,y)\n",
    "# plt.show() \n",
    "\n",
    "# This is the AUC\n",
    "auc = np.trapz(y,x)\n",
    "range(6)"
   ]
  },
  {
   "cell_type": "code",
   "execution_count": 5,
   "metadata": {
    "collapsed": false
   },
   "outputs": [],
   "source": [
    "def get_numpy_data(data_sframe, features, label):\n",
    "    data_sframe['intercept'] = 1\n",
    "    features = ['intercept'] + features\n",
    "    features_sframe = data_sframe[features]\n",
    "    feature_matrix = features_sframe.to_numpy()\n",
    "    label_sarray = data_sframe[label]\n",
    "    label_array = label_sarray.to_numpy()\n",
    "    return(feature_matrix, label_array)"
   ]
  },
  {
   "cell_type": "code",
   "execution_count": 5,
   "metadata": {
    "collapsed": false
   },
   "outputs": [],
   "source": [
    "############### this results have been used for CLEO paper\n",
    "\n",
    "# comb = gl.toolkits.cross_validation.shuffle(comb, random_seed=2)\n",
    "\n",
    "def lz_logistic(data, feature, label, l2_penalty):\n",
    "    \n",
    "    folds = gl.cross_validation.KFold(comb, 5)\n",
    "    SE=[None]*5\n",
    "    SP=[None]*5\n",
    "    acc=[None]*5\n",
    "    # print specificity\n",
    "    idx = 0\n",
    "    for train, valid in folds:\n",
    "        m = gl.svm_classifier.create(train,\n",
    "                                          target=label,\n",
    "                                          features=feature,\n",
    "                                          l2_penalty = l2_penalty,\n",
    "                                          validation_set=None,\n",
    "                                          verbose = False)\n",
    "        results          = m.evaluate(data_test, 'confusion_matrix')\n",
    "        confusion_matrix = results['confusion_matrix']\n",
    "        confusion_matrix = m.evaluate(valid, 'confusion_matrix')\n",
    "        confusion_matrix = confusion_matrix.values()[0]\n",
    "        TP = confusion_matrix[(confusion_matrix['target_label']==1) & (confusion_matrix['predicted_label']==1)]\n",
    "        if np.size(TP) == 0:\n",
    "            TP = 0\n",
    "        else:\n",
    "            TP = TP['count'][0]\n",
    "        TN = confusion_matrix[(confusion_matrix['target_label']==0) & (confusion_matrix['predicted_label']==0)]\n",
    "        if np.size(TN) == 0:\n",
    "            TN = 0\n",
    "        else:\n",
    "            TN = TN['count'][0]\n",
    "        FP = confusion_matrix[(confusion_matrix['target_label']==0) & (confusion_matrix['predicted_label']==1)]\n",
    "        if np.size(FP) == 0:\n",
    "            FP = 0\n",
    "        else:\n",
    "            FP = FP['count'][0]\n",
    "        FN = confusion_matrix[(confusion_matrix['target_label']==1) & (confusion_matrix['predicted_label']==0)]\n",
    "        if np.size(FN) == 0:\n",
    "            FN = 0\n",
    "        else:\n",
    "            FN = FN['count'][0]\n",
    "        SP[idx] = float(TN) / (TN + FP)\n",
    "        SE[idx] = float(TP) / (TP + FN)\n",
    "        acc[idx] = float(TP+TN) / (TP+TN+FP+FN)\n",
    "        idx = idx + 1\n",
    "    \n",
    "    print 'acc_mean = ', np.mean(acc)\n",
    "    print 'acc_std = ', np.std(acc)\n",
    "    print 'SE_mean = ', np.mean(SE)\n",
    "    print 'SE_std = ', np.std(SE)\n",
    "    print 'SP_mean = ', np.mean(SP)\n",
    "    print 'SP_std = ', np.std(SP)\n",
    "    \n",
    "    return results, acc, SE, SP"
   ]
  },
  {
   "cell_type": "code",
   "execution_count": 10,
   "metadata": {
    "collapsed": false
   },
   "outputs": [
    {
     "name": "stdout",
     "output_type": "stream",
     "text": [
      "acc_mean =  0.889285714286\n",
      "acc_std =  0.0165600330277\n",
      "SE_mean =  0.965258005373\n",
      "SE_std =  0.0144718542275\n",
      "SP_mean =  0.364412254412\n",
      "SP_std =  0.0383172930455\n"
     ]
    }
   ],
   "source": [
    "############### this is the normalized version of the above code\n",
    "\n",
    "# normalize the features\n",
    "# feature_matrix is a SFrame, first 90 columns are features, last column is labels.\n",
    "def normalize_features_mice(comb):\n",
    "    # extract feature columns\n",
    "    comb_np = comb.to_numpy()\n",
    "    comb_feature = comb_np[:,0:90]\n",
    "    \n",
    "    # compute normed features and norms \n",
    "    norms = np.linalg.norm(comb_feature, axis=0) # gives [norm(X[:,0]), norm(X[:,1]), norm(X[:,2])]\n",
    "    comb_feature_normed = comb_feature / norms\n",
    "    \n",
    "    # combine normalized feature vectors and the labels\n",
    "    comb_normed = np.concatenate((comb_feature_normed,comb_np[:,90:91]),axis = 1)\n",
    "    # convert numpy array to SFrame\n",
    "    comb_normed = gl.SFrame(comb_normed)\n",
    "    comb_normed = comb_normed.unpack('X1', '')\n",
    "    dictionary_norm = dict(zip(comb_normed.column_names(), colName))\n",
    "    comb_normed = comb_normed.rename(dictionary_norm) # this is the normed version\n",
    "\n",
    "    return comb_normed, norms # note: norms is array, comb_normed is SFrame\n",
    "\n",
    "# comb = gl.toolkits.cross_validation.shuffle(comb, random_seed=2)\n",
    "def lz_logistic(data, feature):\n",
    "    \n",
    "    # normalize \n",
    "    comb, norms = normalize_features_mice(data)\n",
    "    comb['Whisker'] = comb['Whisker'].astype(int)\n",
    "\n",
    "    folds = gl.cross_validation.KFold(comb, 5)\n",
    "    SE=[None]*5\n",
    "    SP=[None]*5\n",
    "    acc=[None]*5\n",
    "    # print specificity\n",
    "    idx = 0\n",
    "    for train, valid in folds:\n",
    "        m = gl.logistic_classifier.create(train,\n",
    "                                          target='Whisker',\n",
    "                                          features=feature,\n",
    "                                          l2_penalty = 0.05,\n",
    "                                          validation_set=None,\n",
    "                                          verbose = False)\n",
    "        \n",
    "        # normalize the validation dataset\n",
    "        valid_np = valid.to_numpy()\n",
    "        valid_feature = valid_np[:,0:90]\n",
    "\n",
    "        # use normed from features\n",
    "        valid_feature_normed = valid_feature / norms\n",
    "\n",
    "        # combine normalized feature vectors and the labels\n",
    "        valid_normed = np.concatenate((valid_feature_normed,valid_np[:,90:91]),axis = 1)\n",
    "\n",
    "        # convert numpy array to SFrame\n",
    "        valid_normed = gl.SFrame(valid_normed)\n",
    "        valid_normed = valid_normed.unpack('X1', '')\n",
    "        dictionary_norm = dict(zip(valid_normed.column_names(), colName))\n",
    "        valid_normed = valid_normed.rename(dictionary_norm) # this is the normed version\n",
    "        valid_normed['Whisker'] = valid_normed['Whisker'].astype(int)\n",
    "\n",
    "        confusion_matrix = m.evaluate(valid, 'confusion_matrix')\n",
    "        confusion_matrix = confusion_matrix.values()[0]\n",
    "        TP = confusion_matrix[(confusion_matrix['target_label']==1) & (confusion_matrix['predicted_label']==1)]\n",
    "        if np.size(TP) == 0:\n",
    "            TP = 0\n",
    "        else:\n",
    "            TP = TP['count'][0]\n",
    "        TN = confusion_matrix[(confusion_matrix['target_label']==0) & (confusion_matrix['predicted_label']==0)]\n",
    "        if np.size(TN) == 0:\n",
    "            TN = 0\n",
    "        else:\n",
    "            TN = TN['count'][0]\n",
    "        FP = confusion_matrix[(confusion_matrix['target_label']==0) & (confusion_matrix['predicted_label']==1)]\n",
    "        if np.size(FP) == 0:\n",
    "            FP = 0\n",
    "        else:\n",
    "            FP = FP['count'][0]\n",
    "        FN = confusion_matrix[(confusion_matrix['target_label']==1) & (confusion_matrix['predicted_label']==0)]\n",
    "        if np.size(FN) == 0:\n",
    "            FN = 0\n",
    "        else:\n",
    "            FN = FN['count'][0]\n",
    "        SE[idx] = float(TN) / (TN + FP)\n",
    "        SP[idx] = float(TP) / (TP + FN)\n",
    "        acc[idx] = float(TP+TN) / (TP+TN+FP+FN)\n",
    "        idx = idx + 1\n",
    "    \n",
    "    print 'acc_mean = ', np.mean(acc)\n",
    "    print 'acc_std = ', np.std(acc)\n",
    "    print 'SE_mean = ', np.mean(SE)\n",
    "    print 'SE_std = ', np.std(SE)\n",
    "    print 'SP_mean = ', np.mean(SP)\n",
    "    print 'SP_std = ', np.std(SP)\n",
    "    \n",
    "    return acc, SE, SP\n",
    "\n",
    "# normalize\n",
    "\n",
    "feature = comb.column_names()[60:90] \n",
    "\n",
    "acc,SE,SP = lz_logistic(comb, feature)\n",
    "\n"
   ]
  },
  {
   "cell_type": "code",
   "execution_count": 11,
   "metadata": {
    "collapsed": false,
    "scrolled": false
   },
   "outputs": [
    {
     "name": "stdout",
     "output_type": "stream",
     "text": [
      "acc_mean =  0.941964285714\n",
      "acc_std =  0.00747017880834\n",
      "SE_mean =  0.662522477522\n",
      "SE_std =  0.0484913858058\n",
      "SP_mean =  0.981643612402\n",
      "SP_std =  0.00598084605908\n"
     ]
    }
   ],
   "source": [
    "\n"
   ]
  },
  {
   "cell_type": "code",
   "execution_count": 894,
   "metadata": {
    "collapsed": false
   },
   "outputs": [
    {
     "data": {
      "text/plain": [
       "393"
      ]
     },
     "execution_count": 894,
     "metadata": {},
     "output_type": "execute_result"
    }
   ],
   "source": [
    "# exploring the data\n",
    "num_wm = len(comb[comb['Whisker']==1])\n",
    "num_wn = len(comb[comb['Whisker']==0])\n",
    "# major class classifier(naive classifier)\n",
    "major_classifier = float(num_wn)/(num_wm + num_wn)\n",
    "major_classifier\n",
    "num_wn"
   ]
  },
  {
   "cell_type": "code",
   "execution_count": 414,
   "metadata": {
    "collapsed": false
   },
   "outputs": [],
   "source": [
    "train_data,test_data = comb.random_split(.8, seed=0)\n",
    "# train_valid_shuffled = graphlab.toolkits.cross_validation.shuffle(train_valid, random_seed=1)\n",
    "train_data = gl.toolkits.cross_validation.shuffle(train_data, random_seed=1)"
   ]
  },
  {
   "cell_type": "code",
   "execution_count": 678,
   "metadata": {
    "collapsed": false,
    "scrolled": false
   },
   "outputs": [
    {
     "name": "stderr",
     "output_type": "stream",
     "text": [
      "[INFO] graphlab.deploy.job: Validating job.\n",
      "[INFO] graphlab.deploy.map_job: Validation complete. Job: 'Cross-Validation-Dec-10-2016-13-00-57-052893-23794864' ready for execution\n",
      "[INFO] graphlab.deploy.map_job: Job: 'Cross-Validation-Dec-10-2016-13-00-57-052893-23794864' scheduled.\n"
     ]
    }
   ],
   "source": [
    "folds = gl.cross_validation.KFold(comb, 5)\n",
    "folds\n",
    "params = dict([('target', 'Whisker'), ('features', comb.column_names()[0:90]), ('validation_set', None)])\n",
    "\n",
    "all_feature_model = gl.cross_validation.cross_val_score(folds,\n",
    "                                              gl.logistic_classifier.create,\n",
    "                                              params)"
   ]
  },
  {
   "cell_type": "code",
   "execution_count": 679,
   "metadata": {
    "collapsed": false,
    "scrolled": true
   },
   "outputs": [
    {
     "name": "stderr",
     "output_type": "stream",
     "text": [
      "[INFO] graphlab.deploy._job: Waiting for job to finish, this may take quite a while.\n",
      "[INFO] graphlab.deploy._job: You may CTRL-C to stop this command and it will not cancel your job.\n"
     ]
    },
    {
     "data": {
      "text/plain": [
       "OrderedDict([('models', [Class                          : LogisticClassifier\n",
       "               \n",
       "               Schema\n",
       "               ------\n",
       "               Number of coefficients         : 91\n",
       "               Number of examples             : 448\n",
       "               Number of classes              : 2\n",
       "               Number of feature columns      : 90\n",
       "               Number of unpacked features    : 90\n",
       "               \n",
       "               Hyperparameters\n",
       "               ---------------\n",
       "               L1 penalty                     : 0.0\n",
       "               L2 penalty                     : 0.01\n",
       "               \n",
       "               Training Summary\n",
       "               ----------------\n",
       "               Solver                         : newton\n",
       "               Solver iterations              : 6\n",
       "               Solver status                  : SUCCESS: Optimal solution found.\n",
       "               Training time (sec)            : 0.3326\n",
       "               \n",
       "               Settings\n",
       "               --------\n",
       "               Log-likelihood                 : 58.6067\n",
       "               \n",
       "               Highest Positive Coefficients\n",
       "               -----------------------------\n",
       "               degree22                       : 517.003\n",
       "               degree9                        : 252.8851\n",
       "               degree30                       : 157.03\n",
       "               degree29                       : 89.63\n",
       "               degree14                       : 83.7289\n",
       "               \n",
       "               Lowest Negative Coefficients\n",
       "               ----------------------------\n",
       "               degree26                       : -474.0292\n",
       "               degree4                        : -221.0901\n",
       "               degree19                       : -176.7385\n",
       "               degree15                       : -151.607\n",
       "               degree12                       : -122.4661,\n",
       "               Class                          : LogisticClassifier\n",
       "               \n",
       "               Schema\n",
       "               ------\n",
       "               Number of coefficients         : 91\n",
       "               Number of examples             : 448\n",
       "               Number of classes              : 2\n",
       "               Number of feature columns      : 90\n",
       "               Number of unpacked features    : 90\n",
       "               \n",
       "               Hyperparameters\n",
       "               ---------------\n",
       "               L1 penalty                     : 0.0\n",
       "               L2 penalty                     : 0.01\n",
       "               \n",
       "               Training Summary\n",
       "               ----------------\n",
       "               Solver                         : newton\n",
       "               Solver iterations              : 6\n",
       "               Solver status                  : SUCCESS: Optimal solution found.\n",
       "               Training time (sec)            : 1.3179\n",
       "               \n",
       "               Settings\n",
       "               --------\n",
       "               Log-likelihood                 : 53.0828\n",
       "               \n",
       "               Highest Positive Coefficients\n",
       "               -----------------------------\n",
       "               degree22                       : 508.3336\n",
       "               degree9                        : 300.8525\n",
       "               degree30                       : 209.3344\n",
       "               degree14                       : 115.5537\n",
       "               degree16                       : 79.3084\n",
       "               \n",
       "               Lowest Negative Coefficients\n",
       "               ----------------------------\n",
       "               degree26                       : -389.35\n",
       "               degree4                        : -295.0886\n",
       "               degree19                       : -211.2948\n",
       "               degree2                        : -144.9214\n",
       "               degree15                       : -131.0189,\n",
       "               Class                          : LogisticClassifier\n",
       "               \n",
       "               Schema\n",
       "               ------\n",
       "               Number of coefficients         : 91\n",
       "               Number of examples             : 448\n",
       "               Number of classes              : 2\n",
       "               Number of feature columns      : 90\n",
       "               Number of unpacked features    : 90\n",
       "               \n",
       "               Hyperparameters\n",
       "               ---------------\n",
       "               L1 penalty                     : 0.0\n",
       "               L2 penalty                     : 0.01\n",
       "               \n",
       "               Training Summary\n",
       "               ----------------\n",
       "               Solver                         : newton\n",
       "               Solver iterations              : 6\n",
       "               Solver status                  : SUCCESS: Optimal solution found.\n",
       "               Training time (sec)            : 0.3186\n",
       "               \n",
       "               Settings\n",
       "               --------\n",
       "               Log-likelihood                 : 51.5104\n",
       "               \n",
       "               Highest Positive Coefficients\n",
       "               -----------------------------\n",
       "               degree22                       : 564.2932\n",
       "               degree9                        : 227.3027\n",
       "               degree30                       : 215.2918\n",
       "               degree3                        : 89.9203\n",
       "               degree21                       : 59.4\n",
       "               \n",
       "               Lowest Negative Coefficients\n",
       "               ----------------------------\n",
       "               degree26                       : -395.0578\n",
       "               degree19                       : -245.1619\n",
       "               degree4                        : -221.8925\n",
       "               degree8                        : -182.1262\n",
       "               degree12                       : -161.3347,\n",
       "               Class                          : LogisticClassifier\n",
       "               \n",
       "               Schema\n",
       "               ------\n",
       "               Number of coefficients         : 91\n",
       "               Number of examples             : 448\n",
       "               Number of classes              : 2\n",
       "               Number of feature columns      : 90\n",
       "               Number of unpacked features    : 90\n",
       "               \n",
       "               Hyperparameters\n",
       "               ---------------\n",
       "               L1 penalty                     : 0.0\n",
       "               L2 penalty                     : 0.01\n",
       "               \n",
       "               Training Summary\n",
       "               ----------------\n",
       "               Solver                         : newton\n",
       "               Solver iterations              : 6\n",
       "               Solver status                  : SUCCESS: Optimal solution found.\n",
       "               Training time (sec)            : 0.3187\n",
       "               \n",
       "               Settings\n",
       "               --------\n",
       "               Log-likelihood                 : 54.1741\n",
       "               \n",
       "               Highest Positive Coefficients\n",
       "               -----------------------------\n",
       "               degree22                       : 546.6987\n",
       "               degree30                       : 285.0362\n",
       "               degree9                        : 171.9298\n",
       "               degree3                        : 78.5689\n",
       "               degree14                       : 71.916\n",
       "               \n",
       "               Lowest Negative Coefficients\n",
       "               ----------------------------\n",
       "               degree26                       : -464.3505\n",
       "               degree4                        : -241.5065\n",
       "               degree19                       : -202.7971\n",
       "               degree8                        : -130.0142\n",
       "               degree2                        : -125.1045,\n",
       "               Class                          : LogisticClassifier\n",
       "               \n",
       "               Schema\n",
       "               ------\n",
       "               Number of coefficients         : 91\n",
       "               Number of examples             : 448\n",
       "               Number of classes              : 2\n",
       "               Number of feature columns      : 90\n",
       "               Number of unpacked features    : 90\n",
       "               \n",
       "               Hyperparameters\n",
       "               ---------------\n",
       "               L1 penalty                     : 0.0\n",
       "               L2 penalty                     : 0.01\n",
       "               \n",
       "               Training Summary\n",
       "               ----------------\n",
       "               Solver                         : newton\n",
       "               Solver iterations              : 6\n",
       "               Solver status                  : SUCCESS: Optimal solution found.\n",
       "               Training time (sec)            : 0.3261\n",
       "               \n",
       "               Settings\n",
       "               --------\n",
       "               Log-likelihood                 : 44.7115\n",
       "               \n",
       "               Highest Positive Coefficients\n",
       "               -----------------------------\n",
       "               degree22                       : 338.8066\n",
       "               degree9                        : 289.104\n",
       "               degree30                       : 117.5258\n",
       "               degree3                        : 112.9469\n",
       "               degree10                       : 101.3691\n",
       "               \n",
       "               Lowest Negative Coefficients\n",
       "               ----------------------------\n",
       "               degree26                       : -437.8914\n",
       "               degree19                       : -265.4557\n",
       "               degree4                        : -244.5128\n",
       "               degree12                       : -176.2665\n",
       "               degree15                       : -164.4323]),\n",
       "             ('summary', Columns:\n",
       "              \tfeatures\tlist\n",
       "              \ttarget\tstr\n",
       "              \ttraining_accuracy\tfloat\n",
       "              \tvalidation_accuracy\tfloat\n",
       "              \tfold_id\tint\n",
       "              \tmodel_id\tint\n",
       "              \n",
       "              Rows: 5\n",
       "              \n",
       "              Data:\n",
       "              +-------------------------------+---------+-------------------+---------------------+\n",
       "              |            features           |  target | training_accuracy | validation_accuracy |\n",
       "              +-------------------------------+---------+-------------------+---------------------+\n",
       "              | [degree1, degree2, degree3... | Whisker |   0.946428571429  |    0.955357142857   |\n",
       "              | [degree1, degree2, degree3... | Whisker |   0.957589285714  |        0.9375       |\n",
       "              | [degree1, degree2, degree3... | Whisker |   0.955357142857  |    0.928571428571   |\n",
       "              | [degree1, degree2, degree3... | Whisker |      0.953125     |    0.946428571429   |\n",
       "              | [degree1, degree2, degree3... | Whisker |   0.962053571429  |    0.866071428571   |\n",
       "              +-------------------------------+---------+-------------------+---------------------+\n",
       "              +---------+----------+\n",
       "              | fold_id | model_id |\n",
       "              +---------+----------+\n",
       "              |    1    |    1     |\n",
       "              |    0    |    0     |\n",
       "              |    3    |    3     |\n",
       "              |    2    |    2     |\n",
       "              |    4    |    4     |\n",
       "              +---------+----------+\n",
       "              [5 rows x 6 columns])])"
      ]
     },
     "execution_count": 679,
     "metadata": {},
     "output_type": "execute_result"
    }
   ],
   "source": [
    "# print all_feature_model.get_results()\n",
    "all_feature_model.get_results()"
   ]
  },
  {
   "cell_type": "code",
   "execution_count": 395,
   "metadata": {
    "collapsed": false
   },
   "outputs": [
    {
     "ename": "TypeError",
     "evalue": "list indices must be integers, not tuple",
     "output_type": "error",
     "traceback": [
      "\u001b[0;31m---------------------------------------------------------------------------\u001b[0m",
      "\u001b[0;31mTypeError\u001b[0m                                 Traceback (most recent call last)",
      "\u001b[0;32m<ipython-input-395-cebe50fe5c8d>\u001b[0m in \u001b[0;36m<module>\u001b[0;34m()\u001b[0m\n\u001b[1;32m      1\u001b[0m \u001b[0mmylist\u001b[0m \u001b[0;34m=\u001b[0m \u001b[0msum\u001b[0m\u001b[0;34m(\u001b[0m\u001b[0;34m[\u001b[0m\u001b[0mrange\u001b[0m\u001b[0;34m(\u001b[0m\u001b[0;36m0\u001b[0m\u001b[0;34m,\u001b[0m\u001b[0;36m30\u001b[0m\u001b[0;34m)\u001b[0m\u001b[0;34m]\u001b[0m \u001b[0;34m+\u001b[0m \u001b[0;34m[\u001b[0m\u001b[0mrange\u001b[0m\u001b[0;34m(\u001b[0m\u001b[0;36m60\u001b[0m\u001b[0;34m,\u001b[0m\u001b[0;36m90\u001b[0m\u001b[0;34m)\u001b[0m\u001b[0;34m]\u001b[0m\u001b[0;34m,\u001b[0m\u001b[0;34m[\u001b[0m\u001b[0;34m]\u001b[0m\u001b[0;34m)\u001b[0m\u001b[0;34m\u001b[0m\u001b[0m\n\u001b[0;32m----> 2\u001b[0;31m \u001b[0mmylist\u001b[0m\u001b[0;34m[\u001b[0m\u001b[0;36m0\u001b[0m\u001b[0;34m:\u001b[0m\u001b[0;36m3\u001b[0m\u001b[0;34m,\u001b[0m\u001b[0;36m5\u001b[0m\u001b[0;34m]\u001b[0m\u001b[0;34m\u001b[0m\u001b[0m\n\u001b[0m",
      "\u001b[0;31mTypeError\u001b[0m: list indices must be integers, not tuple"
     ]
    }
   ],
   "source": [
    "mylist = sum([range(0,30)] + [range(60,90)],[])\n",
    "mylist[0:3,5]"
   ]
  },
  {
   "cell_type": "code",
   "execution_count": 215,
   "metadata": {
    "collapsed": false
   },
   "outputs": [
    {
     "data": {
      "text/plain": [
       "list"
      ]
     },
     "execution_count": 215,
     "metadata": {},
     "output_type": "execute_result"
    }
   ],
   "source": [
    "type(colName)"
   ]
  },
  {
   "cell_type": "code",
   "execution_count": 132,
   "metadata": {
    "collapsed": false,
    "scrolled": true
   },
   "outputs": [
    {
     "data": {
      "text/plain": [
       "{'accuracy': 0.928, 'auc': 0.9809523809523802, 'confusion_matrix': Columns:\n",
       " \ttarget_label\tint\n",
       " \tpredicted_label\tint\n",
       " \tcount\tint\n",
       " \n",
       " Rows: 4\n",
       " \n",
       " Data:\n",
       " +--------------+-----------------+-------+\n",
       " | target_label | predicted_label | count |\n",
       " +--------------+-----------------+-------+\n",
       " |      0       |        0        |   87  |\n",
       " |      0       |        1        |   3   |\n",
       " |      1       |        0        |   6   |\n",
       " |      1       |        1        |   29  |\n",
       " +--------------+-----------------+-------+\n",
       " [4 rows x 3 columns], 'f1_score': 0.8656716417910447, 'log_loss': 0.17156060617233557, 'precision': 0.90625, 'recall': 0.8285714285714286, 'roc_curve': Columns:\n",
       " \tthreshold\tfloat\n",
       " \tfpr\tfloat\n",
       " \ttpr\tfloat\n",
       " \tp\tint\n",
       " \tn\tint\n",
       " \n",
       " Rows: 100001\n",
       " \n",
       " Data:\n",
       " +-----------+----------------+-----+----+----+\n",
       " | threshold |      fpr       | tpr | p  | n  |\n",
       " +-----------+----------------+-----+----+----+\n",
       " |    0.0    |      1.0       | 1.0 | 35 | 90 |\n",
       " |   1e-05   | 0.988888888889 | 1.0 | 35 | 90 |\n",
       " |   2e-05   | 0.977777777778 | 1.0 | 35 | 90 |\n",
       " |   3e-05   | 0.966666666667 | 1.0 | 35 | 90 |\n",
       " |   4e-05   | 0.966666666667 | 1.0 | 35 | 90 |\n",
       " |   5e-05   | 0.966666666667 | 1.0 | 35 | 90 |\n",
       " |   6e-05   | 0.966666666667 | 1.0 | 35 | 90 |\n",
       " |   7e-05   | 0.966666666667 | 1.0 | 35 | 90 |\n",
       " |   8e-05   | 0.966666666667 | 1.0 | 35 | 90 |\n",
       " |   9e-05   | 0.966666666667 | 1.0 | 35 | 90 |\n",
       " +-----------+----------------+-----+----+----+\n",
       " [100001 rows x 5 columns]\n",
       " Note: Only the head of the SFrame is printed.\n",
       " You can use print_rows(num_rows=m, num_columns=n) to print more rows and columns.}"
      ]
     },
     "execution_count": 132,
     "metadata": {},
     "output_type": "execute_result"
    }
   ],
   "source": [
    "whisker_model.evaluate(test_data)"
   ]
  },
  {
   "cell_type": "code",
   "execution_count": 148,
   "metadata": {
    "collapsed": false,
    "scrolled": false
   },
   "outputs": [
    {
     "data": {
      "text/plain": [
       "dtype: str\n",
       "Rows: 91\n",
       "['degree10', 'degree22', 'degree16', 'degree9', 'degree20', 'degree30', 'degree24', 'degree23', 'degree28', 'degree12', 'degree11', 'degree2', '(intercept)', 'degree14', 'degree29', 'clusteringCoef23', 'clusteringCoef22', 'pathlength6', 'clusteringCoef9', 'pathlength14', 'clusteringCoef27', 'clusteringCoef18', 'clusteringCoef2', 'pathlength21', 'clusteringCoef14', 'clusteringCoef8', 'clusteringCoef13', 'clusteringCoef19', 'pathlength23', 'pathlength11', 'clusteringCoef5', 'pathlength24', 'pathlength26', 'clusteringCoef3', 'pathlength20', 'pathlength1', 'pathlength22', 'clusteringCoef17', 'clusteringCoef28', 'clusteringCoef26', 'clusteringCoef29', 'pathlength3', 'pathlength30', 'clusteringCoef24', 'pathlength25', 'clusteringCoef11', 'pathlength2', 'pathlength9', 'pathlength27', 'pathlength17', 'pathlength18', 'pathlength16', 'pathlength5', 'pathlength19', 'pathlength7', 'clusteringCoef1', 'pathlength8', 'clusteringCoef7', 'pathlength10', 'pathlength28', 'pathlength13', 'pathlength15', 'pathlength12', 'clusteringCoef6', 'pathlength4', 'pathlength29', 'clusteringCoef21', 'clusteringCoef10', 'clusteringCoef15', 'clusteringCoef30', 'clusteringCoef4', 'clusteringCoef12', 'clusteringCoef25', 'clusteringCoef16', 'clusteringCoef20', 'degree21', 'degree18', 'degree4', 'degree6', 'degree17', 'degree1', 'degree13', 'degree27', 'degree5', 'degree3', 'degree7', 'degree25', 'degree15', 'degree8', 'degree19', 'degree26']"
      ]
     },
     "execution_count": 148,
     "metadata": {},
     "output_type": "execute_result"
    }
   ],
   "source": [
    "## Weight \n",
    "weight = whisker_model['coefficients'].sort('value', ascending=False)\n",
    "weight['name']"
   ]
  },
  {
   "cell_type": "code",
   "execution_count": 149,
   "metadata": {
    "collapsed": true
   },
   "outputs": [],
   "source": [
    "## "
   ]
  }
 ],
 "metadata": {
  "kernelspec": {
   "display_name": "Python 2",
   "language": "python",
   "name": "python2"
  },
  "language_info": {
   "codemirror_mode": {
    "name": "ipython",
    "version": 2
   },
   "file_extension": ".py",
   "mimetype": "text/x-python",
   "name": "python",
   "nbconvert_exporter": "python",
   "pygments_lexer": "ipython2",
   "version": "2.7.11"
  }
 },
 "nbformat": 4,
 "nbformat_minor": 0
}
