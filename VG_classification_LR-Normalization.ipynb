{
 "cells": [
  {
   "cell_type": "code",
   "execution_count": 1,
   "metadata": {
    "collapsed": false
   },
   "outputs": [
    {
     "name": "stdout",
     "output_type": "stream",
     "text": [
      "This non-commercial license of GraphLab Create for academic use is assigned to victor.li.zhu@rutgers.edu and will expire on October 06, 2017.\n"
     ]
    },
    {
     "name": "stderr",
     "output_type": "stream",
     "text": [
      "[INFO] graphlab.cython.cy_server: GraphLab Create v2.1 started. Logging: /tmp/graphlab_server_1488985553.log\n"
     ]
    }
   ],
   "source": [
    "import graphlab as gl\n",
    "import numpy as np\n",
    "import pandas as pd\n",
    "import os\n",
    "from pylab import *"
   ]
  },
  {
   "cell_type": "code",
   "execution_count": 4,
   "metadata": {
    "collapsed": false
   },
   "outputs": [
    {
     "data": {
      "text/plain": [
       "[0, 1, 2, 3, 4, 5, 6]"
      ]
     },
     "execution_count": 4,
     "metadata": {},
     "output_type": "execute_result"
    }
   ],
   "source": [
    "import threading\n",
    "threading.activeCount()\n",
    "\n",
    "from ipyparallel import Client\n",
    "rc = Client()\n",
    "\n",
    "rc.ids\n"
   ]
  },
  {
   "cell_type": "code",
   "execution_count": null,
   "metadata": {
    "collapsed": false,
    "scrolled": true
   },
   "outputs": [
    {
     "name": "stdout",
     "output_type": "stream",
     "text": [
      "\n",
      "========================================\n",
      "Loading features: mouse01, window_length100 ...\n",
      "\n",
      "\n",
      "----------------------------------------\n",
      "Classifying --> classifier: LR, feature_type001, l2_penalty_0.010000 ...\n",
      "AC_mean =  0.869451612903\n",
      "AC_std =  0.044709996275\n",
      "SE_mean =  0.619175360458\n",
      "SE_std =  0.103728954224\n",
      "SP_mean =  0.931137705554\n",
      "SP_std =  0.0243459301256\n",
      "\n",
      "----------------------------------------\n",
      "Classifying --> classifier: LR, feature_type001, l2_penalty_0.017783 ...\n",
      "AC_mean =  0.870251612903\n",
      "AC_std =  0.0445333716023\n",
      "SE_mean =  0.615329206612\n",
      "SE_std =  0.103083139399\n",
      "SP_mean =  0.933109345026\n",
      "SP_std =  0.0241518603499\n",
      "\n",
      "----------------------------------------\n",
      "Classifying --> classifier: LR, feature_type001, l2_penalty_0.031623 ...\n",
      "AC_mean =  0.870251612903\n",
      "AC_std =  0.042923433999\n",
      "SE_mean =  0.615329206612\n",
      "SE_std =  0.103083139399\n",
      "SP_mean =  0.933241217617\n",
      "SP_std =  0.0230772154986\n",
      "\n",
      "----------------------------------------\n",
      "Classifying --> classifier: LR, feature_type001, l2_penalty_0.056234 ...\n",
      "AC_mean =  0.86864516129\n",
      "AC_std =  0.0426867105191\n",
      "SE_mean =  0.620592364507\n",
      "SE_std =  0.105102288321\n",
      "SP_mean =  0.930106302119\n",
      "SP_std =  0.0236779337556\n",
      "\n",
      "----------------------------------------\n",
      "Classifying --> classifier: LR, feature_type001, l2_penalty_0.100000 ...\n",
      "AC_mean =  0.869451612903\n",
      "AC_std =  0.0423578064459\n",
      "SE_mean =  0.626495142285\n",
      "SE_std =  0.100919653985\n",
      "SP_mean =  0.930219796615\n",
      "SP_std =  0.0231371797818\n",
      "\n",
      "----------------------------------------\n",
      "Classifying --> classifier: LR, feature_type001, l2_penalty_0.177828 ...\n",
      "AC_mean =  0.867058064516\n",
      "AC_std =  0.045566689186\n",
      "SE_mean =  0.599593918508\n",
      "SE_std =  0.111644789492\n",
      "SP_mean =  0.934296135209\n",
      "SP_std =  0.0216062172889\n",
      "\n",
      "----------------------------------------\n",
      "Classifying --> classifier: LR, feature_type001, l2_penalty_0.316228 ...\n",
      "AC_mean =  0.863858064516\n",
      "AC_std =  0.0449628154843\n",
      "SE_mean =  0.582151273434\n",
      "SE_std =  0.110670888997\n",
      "SP_mean =  0.934383666818\n",
      "SP_std =  0.0210122257553\n",
      "\n",
      "----------------------------------------\n",
      "Classifying --> classifier: LR, feature_type001, l2_penalty_0.562341 ...\n",
      "AC_mean =  0.857451612903\n",
      "AC_std =  0.0465985244035\n",
      "SE_mean =  0.566053135461\n",
      "SE_std =  0.117274076881\n",
      "SP_mean =  0.931535335903\n",
      "SP_std =  0.0184202891684\n",
      "\n",
      "----------------------------------------\n",
      "Classifying --> classifier: LR, feature_type001, l2_penalty_1.000000 ...\n",
      "AC_mean =  0.855838709677\n",
      "AC_std =  0.0463590587793\n",
      "SE_mean =  0.540024284926\n",
      "SE_std =  0.117448272019\n",
      "SP_mean =  0.935495220105\n",
      "SP_std =  0.0204857501973\n",
      "\n",
      "----------------------------------------\n",
      "Classifying --> classifier: LR, feature_type001, l2_penalty_1.778279 ...\n",
      "AC_mean =  0.853419354839\n",
      "AC_std =  0.0387162682561\n",
      "SE_mean =  0.505148725543\n",
      "SE_std =  0.0856042751032\n",
      "SP_mean =  0.940789319405\n",
      "SP_std =  0.0204777453802\n",
      "\n",
      "----------------------------------------\n",
      "Classifying --> classifier: LR, feature_type001, l2_penalty_3.162278 ...\n"
     ]
    }
   ],
   "source": [
    "# input parameters\n",
    "#=================================\n",
    "classifier_list = ['LR']\n",
    "#=================================\n",
    "\n",
    "window_length_list = [100, 150, 200, 250, 300]\n",
    "window_step = 50\n",
    "feature_type_list = [1, 2, 3, 12, 13, 23, 123]  # 1: dg, 2: cc, 3: pl, 12: dg+cc, 13: dg+pl, 23: cc+pl, 123: dg+cc+pl\n",
    "l2_penalty_list = np.logspace(-2, 1.5, num=15, endpoint=True, base=10.0, dtype=None).tolist()\n",
    "l1_penalty = 0.0\n",
    "\n",
    "for mouse_id in range(1,7):\n",
    "\n",
    "    for win_ln_idx in range(len(window_length_list)): # NOTE HERE!!!!! REMOVE \"1\" AFTER THIS SESSION!!!!!!!!!!!!!\n",
    "        window_length = window_length_list[win_ln_idx]\n",
    "        \n",
    "        ##========================= load features\n",
    "        # print on screen: progress\n",
    "        current_progress = (\"\\n========================================\\nLoading features: mouse%02d, window_length%03d ...\\n\" \\\n",
    "                            % (mouse_id, window_length))\n",
    "        print current_progress\n",
    "\n",
    "        # load and organize feature matrix\n",
    "        comb = lz_load_feature_matrix(mouse_id, window_length, window_step)       \n",
    "        \n",
    "        # normalization\n",
    "        comb_normalization, norm = normalize_features_mice(comb)\n",
    "                \n",
    "        for classifier_idx in range(len(classifier_list)):\n",
    "            classifier = classifier_list[classifier_idx]\n",
    "\n",
    "            # initiate\n",
    "            AC = [[0] * len(l2_penalty_list) for _ in range(len(feature_type_list))] \n",
    "            SE = [[0] * len(l2_penalty_list) for _ in range(len(feature_type_list))] \n",
    "            SP = [[0] * len(l2_penalty_list) for _ in range(len(feature_type_list))] \n",
    "\n",
    "            for feature_type_idx in range(len(feature_type_list)):\n",
    "                feature_type = feature_type_list[feature_type_idx]\n",
    "\n",
    "                ##========================= classification\n",
    "                for l2_penalty_idx in range(len(l2_penalty_list)):\n",
    "                    l2_penalty = l2_penalty_list[l2_penalty_idx]\n",
    "\n",
    "                    # print on screen: progress\n",
    "                    current_progress = (\"\\n----------------------------------------\\nClassifying --> classifier: %s, feature_type%03d, l2_penalty_%f ...\" \\\n",
    "                                        % (classifier, feature_type, l2_penalty))\n",
    "                    print current_progress\n",
    "\n",
    "                    if classifier == 'LR':\n",
    "                        AC[feature_type_idx][l2_penalty_idx],SE[feature_type_idx][l2_penalty_idx],SP[feature_type_idx][l2_penalty_idx] = \\\n",
    "                            lz_logistic_AC_SE_SP(comb_normalization, feature_type, l2_penalty, l1_penalty)\n",
    "                    if classifier == 'SVM':\n",
    "                        AC[feature_type_idx][l2_penalty_idx],SE[feature_type_idx][l2_penalty_idx],SP[feature_type_idx][l2_penalty_idx] = \\\n",
    "                            lz_svm_AC_SE_SP(comb_normalization, feature_type, l2_penalty)\n",
    "                    # if classifier == 'RF'\n",
    "                        # ...\n",
    "                    # if classifier == 'KNN'\n",
    "                        # ...\n",
    "\n",
    "            ##====================== save results\n",
    "            AC_saveName = (\"%s_normalized_mouse%02d_window_length%03d_AC.csv\" \\\n",
    "                           % (classifier,mouse_id,window_length))\n",
    "            SE_saveName = (\"%s_normalized_mouse%02d_window_length%03d_SE.csv\" \\\n",
    "                           % (classifier,mouse_id,window_length))\n",
    "            SP_saveName = (\"%s_normalized_mouse%02d_window_length%03d_SP.csv\" \\\n",
    "                           % (classifier,mouse_id,window_length))\n",
    "            df_AC = pd.DataFrame(AC)\n",
    "            df_SE = pd.DataFrame(SE)        \n",
    "            df_SP = pd.DataFrame(SP)  \n",
    "            \n",
    "            os.chdir(\"/Users/lizhu/Dropbox/projects/calcium/classification_result\") \n",
    "            df_AC.to_csv(AC_saveName, index = False, header = False)\n",
    "            df_SE.to_csv(SE_saveName, index = False, header = False)\n",
    "            df_SP.to_csv(SP_saveName, index = False, header = False)"
   ]
  },
  {
   "cell_type": "code",
   "execution_count": 2,
   "metadata": {
    "collapsed": false
   },
   "outputs": [],
   "source": [
    "# load and organize feature matrix\n",
    "def lz_load_feature_matrix(mouse_id, window_length, window_step):\n",
    "    fileName = \"format4ML_GC6f_emx_0\" + str(mouse_id) + \"_windowLen\" + str(window_length) + \"_winStep_0\" + str(window_step) + \"_v2_threshold_10.csv\"\n",
    "    loadPath = \"/Users/lizhu/Dropbox/projects/calcium/format4ML/\" + fileName\n",
    "    comb = gl.SFrame.read_csv(loadPath, delimiter=',',header=False,verbose = False)\n",
    "    colName_dg = 'degree'\n",
    "    colName_dg = gl.SArray([colName_dg + repr(i+1) for i in range(30)])\n",
    "    colName_cc = 'clusteringCoef'\n",
    "    colName_cc = gl.SArray([colName_cc + repr(i+1) for i in range(30)])\n",
    "    colName_pl = 'pathlength'\n",
    "    colName_pl = gl.SArray([colName_pl + repr(i+1) for i in range(30)])\n",
    "    colName = colName_dg.append(colName_cc.append(colName_pl.append(gl.SArray(['Whisker']))))\n",
    "    colName = (list(colName))\n",
    "    dictionary = dict(zip(comb.column_names(), colName))\n",
    "    comb = comb.rename(dictionary)\n",
    "    comb = gl.toolkits.cross_validation.shuffle(comb, random_seed=1)\n",
    "    # comb['Whisker'].show(view = 'Categorical')\n",
    "    \n",
    "    return comb"
   ]
  },
  {
   "cell_type": "code",
   "execution_count": 4,
   "metadata": {
    "collapsed": true
   },
   "outputs": [],
   "source": [
    "# normalize the features\n",
    "# feature_matrix is a SFrame, first 90 columns are features, last column is labels.\n",
    "def normalize_features_mice(comb):\n",
    "    \n",
    "    colName = comb.column_names()\n",
    "    \n",
    "    # extract feature columns\n",
    "    comb_np = comb.to_numpy()\n",
    "    comb_feature = comb_np[:,0:90]\n",
    "    \n",
    "    # compute normed features and norms \n",
    "    norms = np.linalg.norm(comb_feature, axis=0) # gives [norm(X[:,0]), norm(X[:,1]), norm(X[:,2])]\n",
    "    comb_feature_normed = comb_feature / norms\n",
    "    \n",
    "    # combine normalized feature vectors and the labels\n",
    "    comb_normed = np.concatenate((comb_feature_normed,comb_np[:,90:94]),axis = 1)\n",
    "        \n",
    "    # convert numpy array to SFrame\n",
    "    comb_normed = gl.SFrame(comb_normed)\n",
    "    comb_normed = comb_normed.unpack('X1', '')\n",
    "\n",
    "    dictionary_norm = dict(zip(comb_normed.column_names(), colName))\n",
    "    comb_normed = comb_normed.rename(dictionary_norm) # this is the normed version\n",
    "\n",
    "    return comb_normed, norms # note: norms is array, comb_normed is SFrame"
   ]
  },
  {
   "cell_type": "code",
   "execution_count": 7,
   "metadata": {
    "collapsed": false
   },
   "outputs": [],
   "source": [
    "# train and cross-validation\n",
    "def lz_logistic_AC_SE_SP(data, feature_type, l2_penalty, l1_penalty):\n",
    "    \n",
    "    # clearify features\n",
    "    feature_dg = comb.column_names()[0:30] # feature 1~30: degree, 31~60: clustering coefficient, 60~90: pathlength\n",
    "    feature_cc = comb.column_names()[30:60]\n",
    "    feature_pl = comb.column_names()[60:90]\n",
    "    \n",
    "    if feature_type == 1:   feature = feature_dg\n",
    "    if feature_type == 2:   feature = feature_cc\n",
    "    if feature_type == 3:   feature = feature_pl\n",
    "    if feature_type == 12:  feature = feature_dg + feature_cc\n",
    "    if feature_type == 13:  feature = feature_dg + feature_pl\n",
    "    if feature_type == 23:  feature = feature_cc + feature_pl\n",
    "    if feature_type == 123: feature = feature_dg + feature_cc + feature_pl\n",
    "     \n",
    "    # Kfold\n",
    "    num_fold = 10\n",
    "    folds = gl.cross_validation.KFold(comb, num_fold)\n",
    "    SE = [None] * num_fold\n",
    "    SP = [None] * num_fold\n",
    "    AC = [None] * num_fold\n",
    "    # print specificity\n",
    "    idx = 0\n",
    "    for train, valid in folds:\n",
    "        m = gl.logistic_classifier.create(train,\n",
    "                                          target='Whisker',\n",
    "                                          features=feature,\n",
    "                                          l2_penalty = l2_penalty, \n",
    "                                          l1_penalty = l1_penalty,\n",
    "                                          validation_set=None,\n",
    "                                          verbose = False)\n",
    "        confusion_matrix = m.evaluate(valid, 'confusion_matrix')\n",
    "        confusion_matrix = confusion_matrix.values()[0]\n",
    "        \n",
    "        TP, TN, FP, FN = lz_extract_ACC_SE_SP(confusion_matrix)\n",
    "        \n",
    "        SP[idx] = float(TN) / (TN + FP)\n",
    "        SE[idx] = float(TP) / (TP + FN)\n",
    "        AC[idx] = float(TP+TN) / (TP+TN+FP+FN)\n",
    "        idx = idx + 1\n",
    "        \n",
    "    AC_mn = np.mean(AC)\n",
    "    AC_sd = np.std(AC)\n",
    "    SE_mn = np.mean(SE)\n",
    "    SE_sd = np.std(SE)\n",
    "    SP_mn = np.mean(SP)\n",
    "    SP_sd = np.std(SP)\n",
    "    \n",
    "    print 'AC_mean = ', AC_mn\n",
    "    print 'AC_std = ',  AC_sd\n",
    "    print 'SE_mean = ', SE_mn\n",
    "    print 'SE_std = ',  SE_sd\n",
    "    print 'SP_mean = ', SP_mn\n",
    "    print 'SP_std = ',  SP_sd\n",
    "    \n",
    "    return AC_mn, SE_mn, SP_mn"
   ]
  },
  {
   "cell_type": "code",
   "execution_count": 6,
   "metadata": {
    "collapsed": true
   },
   "outputs": [],
   "source": [
    "# train and cross-validation\n",
    "def lz_svm_AC_SE_SP(data, feature_type, l2_penalty):\n",
    "    \n",
    "    # clearify features\n",
    "    feature_dg = comb.column_names()[0:30] # feature 1~30: degree, 31~60: clustering coefficient, 60~90: pathlength\n",
    "    feature_cc = comb.column_names()[30:60]\n",
    "    feature_pl = comb.column_names()[60:90]\n",
    "    \n",
    "    if feature_type == 1:   feature = feature_dg\n",
    "    if feature_type == 2:   feature = feature_cc\n",
    "    if feature_type == 3:   feature = feature_pl\n",
    "    if feature_type == 12:  feature = feature_dg + feature_cc\n",
    "    if feature_type == 13:  feature = feature_dg + feature_pl\n",
    "    if feature_type == 23:  feature = feature_cc + feature_pl\n",
    "    if feature_type == 123: feature = feature_dg + feature_cc + feature_pl\n",
    "     \n",
    "    # Kfold\n",
    "    num_fold = 10\n",
    "    folds = gl.cross_validation.KFold(comb, num_fold)\n",
    "    SE = [None] * num_fold\n",
    "    SP = [None] * num_fold\n",
    "    AC = [None] * num_fold\n",
    "    # print specificity\n",
    "    idx = 0\n",
    "    for train, valid in folds:\n",
    "        m = gl.svm_classifier.create(train,\n",
    "                                          target='Whisker',\n",
    "                                          features=feature,\n",
    "                                          penalty = l2_penalty, \n",
    "                                          validation_set=None,\n",
    "                                          verbose = False)\n",
    "        confusion_matrix = m.evaluate(valid, 'confusion_matrix')\n",
    "        confusion_matrix = confusion_matrix.values()[0]\n",
    "        \n",
    "        TP, TN, FP, FN = lz_extract_ACC_SE_SP(confusion_matrix)\n",
    "        \n",
    "        SP[idx] = float(TN) / (TN + FP)\n",
    "        SE[idx] = float(TP) / (TP + FN)\n",
    "        AC[idx] = float(TP+TN) / (TP+TN+FP+FN)\n",
    "        idx = idx + 1\n",
    "        \n",
    "    AC_mn = np.mean(AC)\n",
    "    AC_sd = np.std(AC)\n",
    "    SE_mn = np.mean(SE)\n",
    "    SE_sd = np.std(SE)\n",
    "    SP_mn = np.mean(SP)\n",
    "    SP_sd = np.std(SP)\n",
    "    \n",
    "    print 'AC_mean = ', AC_mn\n",
    "    print 'AC_std = ',  AC_sd\n",
    "    print 'SE_mean = ', SE_mn\n",
    "    print 'SE_std = ',  SE_sd\n",
    "    print 'SP_mean = ', SP_mn\n",
    "    print 'SP_std = ',  SP_sd\n",
    "    \n",
    "    return AC_mn, SE_mn, SP_mn"
   ]
  },
  {
   "cell_type": "code",
   "execution_count": 5,
   "metadata": {
    "collapsed": false
   },
   "outputs": [],
   "source": [
    "def lz_extract_ACC_SE_SP(confusion_matrix):\n",
    "    TP = confusion_matrix[(confusion_matrix['target_label']==1) & (confusion_matrix['predicted_label']==1)]\n",
    "    if np.size(TP) == 0:\n",
    "        TP = 0\n",
    "    else:\n",
    "        TP = TP['count'][0]\n",
    "    TN = confusion_matrix[(confusion_matrix['target_label']==0) & (confusion_matrix['predicted_label']==0)]\n",
    "    if np.size(TN) == 0:\n",
    "        TN = 0\n",
    "    else:\n",
    "        TN = TN['count'][0]\n",
    "    FP = confusion_matrix[(confusion_matrix['target_label']==0) & (confusion_matrix['predicted_label']==1)]\n",
    "    if np.size(FP) == 0:\n",
    "        FP = 0\n",
    "    else:\n",
    "        FP = FP['count'][0]\n",
    "    FN = confusion_matrix[(confusion_matrix['target_label']==1) & (confusion_matrix['predicted_label']==0)]\n",
    "    if np.size(FN) == 0:\n",
    "        FN = 0\n",
    "    else:\n",
    "        FN = FN['count'][0]\n",
    "    \n",
    "    return TP, TN, FP, FN"
   ]
  },
  {
   "cell_type": "code",
   "execution_count": null,
   "metadata": {
    "collapsed": true
   },
   "outputs": [],
   "source": []
  },
  {
   "cell_type": "code",
   "execution_count": null,
   "metadata": {
    "collapsed": true
   },
   "outputs": [],
   "source": []
  },
  {
   "cell_type": "code",
   "execution_count": null,
   "metadata": {
    "collapsed": true
   },
   "outputs": [],
   "source": []
  },
  {
   "cell_type": "code",
   "execution_count": null,
   "metadata": {
    "collapsed": false
   },
   "outputs": [],
   "source": [
    "############### this is the normalized version of the above code\n",
    "\n",
    "# normalize the features\n",
    "# feature_matrix is a SFrame, first 90 columns are features, last column is labels.\n",
    "def normalize_features_mice(comb):\n",
    "    # extract feature columns\n",
    "    comb_np = comb.to_numpy()\n",
    "    comb_feature = comb_np[:,0:90]\n",
    "    \n",
    "    # compute normed features and norms \n",
    "    norms = np.linalg.norm(comb_feature, axis=0) # gives [norm(X[:,0]), norm(X[:,1]), norm(X[:,2])]\n",
    "    comb_feature_normed = comb_feature / norms\n",
    "    \n",
    "    # combine normalized feature vectors and the labels\n",
    "    comb_normed = np.concatenate((comb_feature_normed,comb_np[:,90:91]),axis = 1)\n",
    "    # convert numpy array to SFrame\n",
    "    comb_normed = gl.SFrame(comb_normed)\n",
    "    comb_normed = comb_normed.unpack('X1', '')\n",
    "    dictionary_norm = dict(zip(comb_normed.column_names(), colName))\n",
    "    comb_normed = comb_normed.rename(dictionary_norm) # this is the normed version\n",
    "\n",
    "    return comb_normed, norms # note: norms is array, comb_normed is SFrame\n",
    "\n",
    "# comb = gl.toolkits.cross_validation.shuffle(comb, random_seed=2)\n",
    "def lz_logistic(data, feature):\n",
    "    \n",
    "    # normalize \n",
    "    comb, norms = normalize_features_mice(data)\n",
    "    comb['Whisker'] = comb['Whisker'].astype(int)\n",
    "\n",
    "    folds = gl.cross_validation.KFold(comb, 5)\n",
    "    SE=[None]*5\n",
    "    SP=[None]*5\n",
    "    acc=[None]*5\n",
    "    # print specificity\n",
    "    idx = 0\n",
    "    for train, valid in folds:\n",
    "        m = gl.logistic_classifier.create(train,\n",
    "                                          target='Whisker',\n",
    "                                          features=feature,\n",
    "                                          l2_penalty = 0.05,\n",
    "                                          validation_set=None,\n",
    "                                          verbose = False)\n",
    "        \n",
    "        # normalize the validation dataset\n",
    "        valid_np = valid.to_numpy()\n",
    "        valid_feature = valid_np[:,0:90]\n",
    "\n",
    "        # use normed from features\n",
    "        valid_feature_normed = valid_feature / norms\n",
    "\n",
    "        # combine normalized feature vectors and the labels\n",
    "        valid_normed = np.concatenate((valid_feature_normed,valid_np[:,90:91]),axis = 1)\n",
    "\n",
    "        # convert numpy array to SFrame\n",
    "        valid_normed = gl.SFrame(valid_normed)\n",
    "        valid_normed = valid_normed.unpack('X1', '')\n",
    "        dictionary_norm = dict(zip(valid_normed.column_names(), colName))\n",
    "        valid_normed = valid_normed.rename(dictionary_norm) # this is the normed version\n",
    "        valid_normed['Whisker'] = valid_normed['Whisker'].astype(int)\n",
    "\n",
    "        confusion_matrix = m.evaluate(valid, 'confusion_matrix')\n",
    "        confusion_matrix = confusion_matrix.values()[0]\n",
    "        TP = confusion_matrix[(confusion_matrix['target_label']==1) & (confusion_matrix['predicted_label']==1)]\n",
    "        if np.size(TP) == 0:\n",
    "            TP = 0\n",
    "        else:\n",
    "            TP = TP['count'][0]\n",
    "        TN = confusion_matrix[(confusion_matrix['target_label']==0) & (confusion_matrix['predicted_label']==0)]\n",
    "        if np.size(TN) == 0:\n",
    "            TN = 0\n",
    "        else:\n",
    "            TN = TN['count'][0]\n",
    "        FP = confusion_matrix[(confusion_matrix['target_label']==0) & (confusion_matrix['predicted_label']==1)]\n",
    "        if np.size(FP) == 0:\n",
    "            FP = 0\n",
    "        else:\n",
    "            FP = FP['count'][0]\n",
    "        FN = confusion_matrix[(confusion_matrix['target_label']==1) & (confusion_matrix['predicted_label']==0)]\n",
    "        if np.size(FN) == 0:\n",
    "            FN = 0\n",
    "        else:\n",
    "            FN = FN['count'][0]\n",
    "        SE[idx] = float(TN) / (TN + FP)\n",
    "        SP[idx] = float(TP) / (TP + FN)\n",
    "        acc[idx] = float(TP+TN) / (TP+TN+FP+FN)\n",
    "        idx = idx + 1\n",
    "    \n",
    "    print 'acc_mean = ', np.mean(acc)\n",
    "    print 'acc_std = ', np.std(acc)\n",
    "    print 'SE_mean = ', np.mean(SE)\n",
    "    print 'SE_std = ', np.std(SE)\n",
    "    print 'SP_mean = ', np.mean(SP)\n",
    "    print 'SP_std = ', np.std(SP)\n",
    "    \n",
    "    return acc, SE, SP\n",
    "\n",
    "# normalize\n",
    "\n",
    "feature = comb.column_names()[60:90] \n",
    "\n",
    "acc,SE,SP = lz_logistic(comb, feature)\n",
    "\n"
   ]
  },
  {
   "cell_type": "code",
   "execution_count": null,
   "metadata": {
    "collapsed": false,
    "scrolled": false
   },
   "outputs": [],
   "source": [
    "\n"
   ]
  },
  {
   "cell_type": "code",
   "execution_count": null,
   "metadata": {
    "collapsed": false
   },
   "outputs": [],
   "source": [
    "# exploring the data\n",
    "num_wm = len(comb[comb['Whisker']==1])\n",
    "num_wn = len(comb[comb['Whisker']==0])\n",
    "# major class classifier(naive classifier)\n",
    "major_classifier = float(num_wn)/(num_wm + num_wn)\n",
    "major_classifier\n",
    "num_wn"
   ]
  },
  {
   "cell_type": "code",
   "execution_count": null,
   "metadata": {
    "collapsed": false
   },
   "outputs": [],
   "source": [
    "train_data,test_data = comb.random_split(.8, seed=0)\n",
    "# train_valid_shuffled = graphlab.toolkits.cross_validation.shuffle(train_valid, random_seed=1)\n",
    "train_data = gl.toolkits.cross_validation.shuffle(train_data, random_seed=1)"
   ]
  },
  {
   "cell_type": "code",
   "execution_count": null,
   "metadata": {
    "collapsed": false,
    "scrolled": false
   },
   "outputs": [],
   "source": [
    "folds = gl.cross_validation.KFold(comb, 5)\n",
    "folds\n",
    "params = dict([('target', 'Whisker'), ('features', comb.column_names()[0:90]), ('validation_set', None)])\n",
    "\n",
    "all_feature_model = gl.cross_validation.cross_val_score(folds,\n",
    "                                              gl.logistic_classifier.create,\n",
    "                                              params)"
   ]
  },
  {
   "cell_type": "code",
   "execution_count": null,
   "metadata": {
    "collapsed": false,
    "scrolled": true
   },
   "outputs": [],
   "source": [
    "# print all_feature_model.get_results()\n",
    "all_feature_model.get_results()"
   ]
  },
  {
   "cell_type": "code",
   "execution_count": null,
   "metadata": {
    "collapsed": false
   },
   "outputs": [],
   "source": [
    "mylist = sum([range(0,30)] + [range(60,90)],[])\n",
    "mylist[0:3,5]"
   ]
  },
  {
   "cell_type": "code",
   "execution_count": null,
   "metadata": {
    "collapsed": false
   },
   "outputs": [],
   "source": [
    "type(colName)"
   ]
  },
  {
   "cell_type": "code",
   "execution_count": null,
   "metadata": {
    "collapsed": false,
    "scrolled": true
   },
   "outputs": [],
   "source": [
    "whisker_model.evaluate(test_data)"
   ]
  },
  {
   "cell_type": "code",
   "execution_count": null,
   "metadata": {
    "collapsed": false,
    "scrolled": false
   },
   "outputs": [],
   "source": [
    "## Weight \n",
    "weight = whisker_model['coefficients'].sort('value', ascending=False)\n",
    "weight['name']"
   ]
  },
  {
   "cell_type": "code",
   "execution_count": null,
   "metadata": {
    "collapsed": true
   },
   "outputs": [],
   "source": [
    "## "
   ]
  }
 ],
 "metadata": {
  "kernelspec": {
   "display_name": "Python 2",
   "language": "python",
   "name": "python2"
  },
  "language_info": {
   "codemirror_mode": {
    "name": "ipython",
    "version": 2
   },
   "file_extension": ".py",
   "mimetype": "text/x-python",
   "name": "python",
   "nbconvert_exporter": "python",
   "pygments_lexer": "ipython2",
   "version": "2.7.11"
  }
 },
 "nbformat": 4,
 "nbformat_minor": 0
}
