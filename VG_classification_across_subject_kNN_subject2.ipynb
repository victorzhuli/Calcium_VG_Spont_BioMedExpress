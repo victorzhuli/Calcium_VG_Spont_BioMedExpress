{
 "cells": [
  {
   "cell_type": "code",
   "execution_count": 2,
   "metadata": {
    "collapsed": false
   },
   "outputs": [
    {
     "name": "stdout",
     "output_type": "stream",
     "text": [
      "This non-commercial license of GraphLab Create for academic use is assigned to victor.li.zhu@rutgers.edu and will expire on October 06, 2017.\n"
     ]
    },
    {
     "name": "stderr",
     "output_type": "stream",
     "text": [
      "[INFO] graphlab.cython.cy_server: GraphLab Create v2.1 started. Logging: /tmp/graphlab_server_1489624795.log\n"
     ]
    }
   ],
   "source": [
    "import graphlab as gl\n",
    "import numpy as np\n",
    "import pandas as pd\n",
    "import os\n",
    "from pylab import *"
   ]
  },
  {
   "cell_type": "code",
   "execution_count": null,
   "metadata": {
    "collapsed": false
   },
   "outputs": [
    {
     "name": "stdout",
     "output_type": "stream",
     "text": [
      "\n",
      "========================================\n",
      "Loading features for testing mouse02, window_length100 ...\n",
      "\n",
      "\n",
      "----------------------------------------\n",
      "Classifying --> classifier: KNN, feature_type001, k: 01 ...\n"
     ]
    },
    {
     "data": {
      "text/html": [
       "<pre>+--------------+-------------+--------------+</pre>"
      ],
      "text/plain": [
       "+--------------+-------------+--------------+"
      ]
     },
     "metadata": {},
     "output_type": "display_data"
    },
    {
     "data": {
      "text/html": [
       "<pre>| Query points | % Complete. | Elapsed Time |</pre>"
      ],
      "text/plain": [
       "| Query points | % Complete. | Elapsed Time |"
      ]
     },
     "metadata": {},
     "output_type": "display_data"
    },
    {
     "data": {
      "text/html": [
       "<pre>+--------------+-------------+--------------+</pre>"
      ],
      "text/plain": [
       "+--------------+-------------+--------------+"
      ]
     },
     "metadata": {},
     "output_type": "display_data"
    },
    {
     "data": {
      "text/html": [
       "<pre>| 1            | 0           | 28.448ms     |</pre>"
      ],
      "text/plain": [
       "| 1            | 0           | 28.448ms     |"
      ]
     },
     "metadata": {},
     "output_type": "display_data"
    },
    {
     "data": {
      "text/html": [
       "<pre>| 39           | 3           | 1.03s        |</pre>"
      ],
      "text/plain": [
       "| 39           | 3           | 1.03s        |"
      ]
     },
     "metadata": {},
     "output_type": "display_data"
    },
    {
     "data": {
      "text/html": [
       "<pre>| 82           | 6.75        | 2.08s        |</pre>"
      ],
      "text/plain": [
       "| 82           | 6.75        | 2.08s        |"
      ]
     },
     "metadata": {},
     "output_type": "display_data"
    },
    {
     "data": {
      "text/html": [
       "<pre>| 109          | 9           | 3.09s        |</pre>"
      ],
      "text/plain": [
       "| 109          | 9           | 3.09s        |"
      ]
     },
     "metadata": {},
     "output_type": "display_data"
    },
    {
     "data": {
      "text/html": [
       "<pre>| 143          | 11.75       | 4.04s        |</pre>"
      ],
      "text/plain": [
       "| 143          | 11.75       | 4.04s        |"
      ]
     },
     "metadata": {},
     "output_type": "display_data"
    },
    {
     "data": {
      "text/html": [
       "<pre>| 189          | 15.5        | 5.07s        |</pre>"
      ],
      "text/plain": [
       "| 189          | 15.5        | 5.07s        |"
      ]
     },
     "metadata": {},
     "output_type": "display_data"
    },
    {
     "data": {
      "text/html": [
       "<pre>| 225          | 18.5        | 6.06s        |</pre>"
      ],
      "text/plain": [
       "| 225          | 18.5        | 6.06s        |"
      ]
     },
     "metadata": {},
     "output_type": "display_data"
    },
    {
     "data": {
      "text/html": [
       "<pre>| 266          | 22          | 7.10s        |</pre>"
      ],
      "text/plain": [
       "| 266          | 22          | 7.10s        |"
      ]
     },
     "metadata": {},
     "output_type": "display_data"
    },
    {
     "data": {
      "text/html": [
       "<pre>| 304          | 25          | 8.08s        |</pre>"
      ],
      "text/plain": [
       "| 304          | 25          | 8.08s        |"
      ]
     },
     "metadata": {},
     "output_type": "display_data"
    },
    {
     "data": {
      "text/html": [
       "<pre>| 345          | 28.5        | 9.07s        |</pre>"
      ],
      "text/plain": [
       "| 345          | 28.5        | 9.07s        |"
      ]
     },
     "metadata": {},
     "output_type": "display_data"
    },
    {
     "data": {
      "text/html": [
       "<pre>| 382          | 31.5        | 10.14s       |</pre>"
      ],
      "text/plain": [
       "| 382          | 31.5        | 10.14s       |"
      ]
     },
     "metadata": {},
     "output_type": "display_data"
    },
    {
     "data": {
      "text/html": [
       "<pre>| 405          | 33.25       | 11.17s       |</pre>"
      ],
      "text/plain": [
       "| 405          | 33.25       | 11.17s       |"
      ]
     },
     "metadata": {},
     "output_type": "display_data"
    },
    {
     "data": {
      "text/html": [
       "<pre>| 440          | 36.25       | 12.10s       |</pre>"
      ],
      "text/plain": [
       "| 440          | 36.25       | 12.10s       |"
      ]
     },
     "metadata": {},
     "output_type": "display_data"
    },
    {
     "data": {
      "text/html": [
       "<pre>| 476          | 39.25       | 13.08s       |</pre>"
      ],
      "text/plain": [
       "| 476          | 39.25       | 13.08s       |"
      ]
     },
     "metadata": {},
     "output_type": "display_data"
    },
    {
     "data": {
      "text/html": [
       "<pre>| 504          | 41.5        | 14.09s       |</pre>"
      ],
      "text/plain": [
       "| 504          | 41.5        | 14.09s       |"
      ]
     },
     "metadata": {},
     "output_type": "display_data"
    },
    {
     "data": {
      "text/html": [
       "<pre>| 545          | 45          | 15.11s       |</pre>"
      ],
      "text/plain": [
       "| 545          | 45          | 15.11s       |"
      ]
     },
     "metadata": {},
     "output_type": "display_data"
    },
    {
     "data": {
      "text/html": [
       "<pre>| 588          | 48.5        | 16.11s       |</pre>"
      ],
      "text/plain": [
       "| 588          | 48.5        | 16.11s       |"
      ]
     },
     "metadata": {},
     "output_type": "display_data"
    },
    {
     "data": {
      "text/html": [
       "<pre>| 634          | 52.25       | 17.13s       |</pre>"
      ],
      "text/plain": [
       "| 634          | 52.25       | 17.13s       |"
      ]
     },
     "metadata": {},
     "output_type": "display_data"
    },
    {
     "data": {
      "text/html": [
       "<pre>| 677          | 55.75       | 18.12s       |</pre>"
      ],
      "text/plain": [
       "| 677          | 55.75       | 18.12s       |"
      ]
     },
     "metadata": {},
     "output_type": "display_data"
    },
    {
     "data": {
      "text/html": [
       "<pre>| 717          | 59.25       | 19.18s       |</pre>"
      ],
      "text/plain": [
       "| 717          | 59.25       | 19.18s       |"
      ]
     },
     "metadata": {},
     "output_type": "display_data"
    },
    {
     "data": {
      "text/html": [
       "<pre>| 754          | 62.25       | 20.11s       |</pre>"
      ],
      "text/plain": [
       "| 754          | 62.25       | 20.11s       |"
      ]
     },
     "metadata": {},
     "output_type": "display_data"
    },
    {
     "data": {
      "text/html": [
       "<pre>| 789          | 65.25       | 21.13s       |</pre>"
      ],
      "text/plain": [
       "| 789          | 65.25       | 21.13s       |"
      ]
     },
     "metadata": {},
     "output_type": "display_data"
    },
    {
     "data": {
      "text/html": [
       "<pre>| 817          | 67.5        | 22.12s       |</pre>"
      ],
      "text/plain": [
       "| 817          | 67.5        | 22.12s       |"
      ]
     },
     "metadata": {},
     "output_type": "display_data"
    },
    {
     "data": {
      "text/html": [
       "<pre>| 856          | 70.75       | 23.13s       |</pre>"
      ],
      "text/plain": [
       "| 856          | 70.75       | 23.13s       |"
      ]
     },
     "metadata": {},
     "output_type": "display_data"
    },
    {
     "data": {
      "text/html": [
       "<pre>| 883          | 73          | 24.13s       |</pre>"
      ],
      "text/plain": [
       "| 883          | 73          | 24.13s       |"
      ]
     },
     "metadata": {},
     "output_type": "display_data"
    },
    {
     "data": {
      "text/html": [
       "<pre>| 915          | 75.5        | 25.15s       |</pre>"
      ],
      "text/plain": [
       "| 915          | 75.5        | 25.15s       |"
      ]
     },
     "metadata": {},
     "output_type": "display_data"
    },
    {
     "data": {
      "text/html": [
       "<pre>| 941          | 77.75       | 26.14s       |</pre>"
      ],
      "text/plain": [
       "| 941          | 77.75       | 26.14s       |"
      ]
     },
     "metadata": {},
     "output_type": "display_data"
    },
    {
     "data": {
      "text/html": [
       "<pre>| 982          | 81          | 27.14s       |</pre>"
      ],
      "text/plain": [
       "| 982          | 81          | 27.14s       |"
      ]
     },
     "metadata": {},
     "output_type": "display_data"
    },
    {
     "data": {
      "text/html": [
       "<pre>| 1016         | 84          | 28.19s       |</pre>"
      ],
      "text/plain": [
       "| 1016         | 84          | 28.19s       |"
      ]
     },
     "metadata": {},
     "output_type": "display_data"
    },
    {
     "data": {
      "text/html": [
       "<pre>| 1055         | 87.25       | 29.17s       |</pre>"
      ],
      "text/plain": [
       "| 1055         | 87.25       | 29.17s       |"
      ]
     },
     "metadata": {},
     "output_type": "display_data"
    },
    {
     "data": {
      "text/html": [
       "<pre>| 1092         | 90.25       | 30.21s       |</pre>"
      ],
      "text/plain": [
       "| 1092         | 90.25       | 30.21s       |"
      ]
     },
     "metadata": {},
     "output_type": "display_data"
    },
    {
     "data": {
      "text/html": [
       "<pre>| 1121         | 92.5        | 31.18s       |</pre>"
      ],
      "text/plain": [
       "| 1121         | 92.5        | 31.18s       |"
      ]
     },
     "metadata": {},
     "output_type": "display_data"
    },
    {
     "data": {
      "text/html": [
       "<pre>| 1150         | 95          | 32.17s       |</pre>"
      ],
      "text/plain": [
       "| 1150         | 95          | 32.17s       |"
      ]
     },
     "metadata": {},
     "output_type": "display_data"
    },
    {
     "data": {
      "text/html": [
       "<pre>| 1173         | 97          | 33.19s       |</pre>"
      ],
      "text/plain": [
       "| 1173         | 97          | 33.19s       |"
      ]
     },
     "metadata": {},
     "output_type": "display_data"
    },
    {
     "data": {
      "text/html": [
       "<pre>| 1202         | 99.25       | 34.20s       |</pre>"
      ],
      "text/plain": [
       "| 1202         | 99.25       | 34.20s       |"
      ]
     },
     "metadata": {},
     "output_type": "display_data"
    },
    {
     "data": {
      "text/html": [
       "<pre>| Done         |             | 34.74s       |</pre>"
      ],
      "text/plain": [
       "| Done         |             | 34.74s       |"
      ]
     },
     "metadata": {},
     "output_type": "display_data"
    },
    {
     "data": {
      "text/html": [
       "<pre>+--------------+-------------+--------------+</pre>"
      ],
      "text/plain": [
       "+--------------+-------------+--------------+"
      ]
     },
     "metadata": {},
     "output_type": "display_data"
    },
    {
     "data": {
      "text/html": [
       "<pre>+--------------+-------------+--------------+</pre>"
      ],
      "text/plain": [
       "+--------------+-------------+--------------+"
      ]
     },
     "metadata": {},
     "output_type": "display_data"
    },
    {
     "data": {
      "text/html": [
       "<pre>| Query points | % Complete. | Elapsed Time |</pre>"
      ],
      "text/plain": [
       "| Query points | % Complete. | Elapsed Time |"
      ]
     },
     "metadata": {},
     "output_type": "display_data"
    },
    {
     "data": {
      "text/html": [
       "<pre>+--------------+-------------+--------------+</pre>"
      ],
      "text/plain": [
       "+--------------+-------------+--------------+"
      ]
     },
     "metadata": {},
     "output_type": "display_data"
    },
    {
     "data": {
      "text/html": [
       "<pre>| 1            | 0           | 11.376ms     |</pre>"
      ],
      "text/plain": [
       "| 1            | 0           | 11.376ms     |"
      ]
     },
     "metadata": {},
     "output_type": "display_data"
    },
    {
     "data": {
      "text/html": [
       "<pre>| 39           | 3           | 1.02s        |</pre>"
      ],
      "text/plain": [
       "| 39           | 3           | 1.02s        |"
      ]
     },
     "metadata": {},
     "output_type": "display_data"
    },
    {
     "data": {
      "text/html": [
       "<pre>| 70           | 5.75        | 2.08s        |</pre>"
      ],
      "text/plain": [
       "| 70           | 5.75        | 2.08s        |"
      ]
     },
     "metadata": {},
     "output_type": "display_data"
    },
    {
     "data": {
      "text/html": [
       "<pre>| 104          | 8.5         | 3.06s        |</pre>"
      ],
      "text/plain": [
       "| 104          | 8.5         | 3.06s        |"
      ]
     },
     "metadata": {},
     "output_type": "display_data"
    },
    {
     "data": {
      "text/html": [
       "<pre>| 142          | 11.5        | 4.06s        |</pre>"
      ],
      "text/plain": [
       "| 142          | 11.5        | 4.06s        |"
      ]
     },
     "metadata": {},
     "output_type": "display_data"
    },
    {
     "data": {
      "text/html": [
       "<pre>| 173          | 14.25       | 5.05s        |</pre>"
      ],
      "text/plain": [
       "| 173          | 14.25       | 5.05s        |"
      ]
     },
     "metadata": {},
     "output_type": "display_data"
    },
    {
     "data": {
      "text/html": [
       "<pre>| 218          | 18          | 6.04s        |</pre>"
      ],
      "text/plain": [
       "| 218          | 18          | 6.04s        |"
      ]
     },
     "metadata": {},
     "output_type": "display_data"
    },
    {
     "data": {
      "text/html": [
       "<pre>| 264          | 21.75       | 7.06s        |</pre>"
      ],
      "text/plain": [
       "| 264          | 21.75       | 7.06s        |"
      ]
     },
     "metadata": {},
     "output_type": "display_data"
    },
    {
     "data": {
      "text/html": [
       "<pre>| 305          | 25          | 8.07s        |</pre>"
      ],
      "text/plain": [
       "| 305          | 25          | 8.07s        |"
      ]
     },
     "metadata": {},
     "output_type": "display_data"
    },
    {
     "data": {
      "text/html": [
       "<pre>| 338          | 27.75       | 9.08s        |</pre>"
      ],
      "text/plain": [
       "| 338          | 27.75       | 9.08s        |"
      ]
     },
     "metadata": {},
     "output_type": "display_data"
    },
    {
     "data": {
      "text/html": [
       "<pre>| 370          | 30.5        | 10.11s       |</pre>"
      ],
      "text/plain": [
       "| 370          | 30.5        | 10.11s       |"
      ]
     },
     "metadata": {},
     "output_type": "display_data"
    },
    {
     "data": {
      "text/html": [
       "<pre>| 408          | 33.5        | 11.07s       |</pre>"
      ],
      "text/plain": [
       "| 408          | 33.5        | 11.07s       |"
      ]
     },
     "metadata": {},
     "output_type": "display_data"
    },
    {
     "data": {
      "text/html": [
       "<pre>| 446          | 36.75       | 12.10s       |</pre>"
      ],
      "text/plain": [
       "| 446          | 36.75       | 12.10s       |"
      ]
     },
     "metadata": {},
     "output_type": "display_data"
    },
    {
     "data": {
      "text/html": [
       "<pre>| 482          | 39.75       | 13.09s       |</pre>"
      ],
      "text/plain": [
       "| 482          | 39.75       | 13.09s       |"
      ]
     },
     "metadata": {},
     "output_type": "display_data"
    },
    {
     "data": {
      "text/html": [
       "<pre>| 518          | 42.75       | 14.09s       |</pre>"
      ],
      "text/plain": [
       "| 518          | 42.75       | 14.09s       |"
      ]
     },
     "metadata": {},
     "output_type": "display_data"
    },
    {
     "data": {
      "text/html": [
       "<pre>| 556          | 45.75       | 15.22s       |</pre>"
      ],
      "text/plain": [
       "| 556          | 45.75       | 15.22s       |"
      ]
     },
     "metadata": {},
     "output_type": "display_data"
    },
    {
     "data": {
      "text/html": [
       "<pre>| 590          | 48.75       | 16.09s       |</pre>"
      ],
      "text/plain": [
       "| 590          | 48.75       | 16.09s       |"
      ]
     },
     "metadata": {},
     "output_type": "display_data"
    },
    {
     "data": {
      "text/html": [
       "<pre>| 629          | 52          | 17.09s       |</pre>"
      ],
      "text/plain": [
       "| 629          | 52          | 17.09s       |"
      ]
     },
     "metadata": {},
     "output_type": "display_data"
    },
    {
     "data": {
      "text/html": [
       "<pre>| 662          | 54.75       | 18.10s       |</pre>"
      ],
      "text/plain": [
       "| 662          | 54.75       | 18.10s       |"
      ]
     },
     "metadata": {},
     "output_type": "display_data"
    },
    {
     "data": {
      "text/html": [
       "<pre>| 698          | 57.5        | 19.12s       |</pre>"
      ],
      "text/plain": [
       "| 698          | 57.5        | 19.12s       |"
      ]
     },
     "metadata": {},
     "output_type": "display_data"
    },
    {
     "data": {
      "text/html": [
       "<pre>| 738          | 61          | 20.11s       |</pre>"
      ],
      "text/plain": [
       "| 738          | 61          | 20.11s       |"
      ]
     },
     "metadata": {},
     "output_type": "display_data"
    },
    {
     "data": {
      "text/html": [
       "<pre>| 780          | 64.5        | 21.10s       |</pre>"
      ],
      "text/plain": [
       "| 780          | 64.5        | 21.10s       |"
      ]
     },
     "metadata": {},
     "output_type": "display_data"
    },
    {
     "data": {
      "text/html": [
       "<pre>| 814          | 67.25       | 22.16s       |</pre>"
      ],
      "text/plain": [
       "| 814          | 67.25       | 22.16s       |"
      ]
     },
     "metadata": {},
     "output_type": "display_data"
    },
    {
     "data": {
      "text/html": [
       "<pre>| 854          | 70.5        | 23.13s       |</pre>"
      ],
      "text/plain": [
       "| 854          | 70.5        | 23.13s       |"
      ]
     },
     "metadata": {},
     "output_type": "display_data"
    },
    {
     "data": {
      "text/html": [
       "<pre>| 892          | 73.75       | 24.16s       |</pre>"
      ],
      "text/plain": [
       "| 892          | 73.75       | 24.16s       |"
      ]
     },
     "metadata": {},
     "output_type": "display_data"
    },
    {
     "data": {
      "text/html": [
       "<pre>| 931          | 77          | 25.12s       |</pre>"
      ],
      "text/plain": [
       "| 931          | 77          | 25.12s       |"
      ]
     },
     "metadata": {},
     "output_type": "display_data"
    },
    {
     "data": {
      "text/html": [
       "<pre>| 963          | 79.5        | 26.20s       |</pre>"
      ],
      "text/plain": [
       "| 963          | 79.5        | 26.20s       |"
      ]
     },
     "metadata": {},
     "output_type": "display_data"
    },
    {
     "data": {
      "text/html": [
       "<pre>| 1003         | 82.75       | 27.14s       |</pre>"
      ],
      "text/plain": [
       "| 1003         | 82.75       | 27.14s       |"
      ]
     },
     "metadata": {},
     "output_type": "display_data"
    },
    {
     "data": {
      "text/html": [
       "<pre>| 1030         | 85          | 28.14s       |</pre>"
      ],
      "text/plain": [
       "| 1030         | 85          | 28.14s       |"
      ]
     },
     "metadata": {},
     "output_type": "display_data"
    },
    {
     "data": {
      "text/html": [
       "<pre>| 1071         | 88.5        | 29.17s       |</pre>"
      ],
      "text/plain": [
       "| 1071         | 88.5        | 29.17s       |"
      ]
     },
     "metadata": {},
     "output_type": "display_data"
    },
    {
     "data": {
      "text/html": [
       "<pre>| 1109         | 91.5        | 30.16s       |</pre>"
      ],
      "text/plain": [
       "| 1109         | 91.5        | 30.16s       |"
      ]
     },
     "metadata": {},
     "output_type": "display_data"
    },
    {
     "data": {
      "text/html": [
       "<pre>| 1138         | 94          | 31.15s       |</pre>"
      ],
      "text/plain": [
       "| 1138         | 94          | 31.15s       |"
      ]
     },
     "metadata": {},
     "output_type": "display_data"
    },
    {
     "data": {
      "text/html": [
       "<pre>| 1172         | 96.75       | 32.15s       |</pre>"
      ],
      "text/plain": [
       "| 1172         | 96.75       | 32.15s       |"
      ]
     },
     "metadata": {},
     "output_type": "display_data"
    },
    {
     "data": {
      "text/html": [
       "<pre>| 1197         | 99          | 33.24s       |</pre>"
      ],
      "text/plain": [
       "| 1197         | 99          | 33.24s       |"
      ]
     },
     "metadata": {},
     "output_type": "display_data"
    },
    {
     "data": {
      "text/html": [
       "<pre>| Done         |             | 33.97s       |</pre>"
      ],
      "text/plain": [
       "| Done         |             | 33.97s       |"
      ]
     },
     "metadata": {},
     "output_type": "display_data"
    },
    {
     "data": {
      "text/html": [
       "<pre>+--------------+-------------+--------------+</pre>"
      ],
      "text/plain": [
       "+--------------+-------------+--------------+"
      ]
     },
     "metadata": {},
     "output_type": "display_data"
    },
    {
     "name": "stdout",
     "output_type": "stream",
     "text": [
      "AC =  0.740281224152\n",
      "SE =  0.27807486631\n",
      "SP =  0.947305389222\n",
      "\n",
      "----------------------------------------\n",
      "Classifying --> classifier: KNN, feature_type001, k: 02 ...\n"
     ]
    },
    {
     "data": {
      "text/html": [
       "<pre>+--------------+-------------+--------------+</pre>"
      ],
      "text/plain": [
       "+--------------+-------------+--------------+"
      ]
     },
     "metadata": {},
     "output_type": "display_data"
    },
    {
     "data": {
      "text/html": [
       "<pre>| Query points | % Complete. | Elapsed Time |</pre>"
      ],
      "text/plain": [
       "| Query points | % Complete. | Elapsed Time |"
      ]
     },
     "metadata": {},
     "output_type": "display_data"
    },
    {
     "data": {
      "text/html": [
       "<pre>+--------------+-------------+--------------+</pre>"
      ],
      "text/plain": [
       "+--------------+-------------+--------------+"
      ]
     },
     "metadata": {},
     "output_type": "display_data"
    },
    {
     "data": {
      "text/html": [
       "<pre>| 1            | 0           | 22.172ms     |</pre>"
      ],
      "text/plain": [
       "| 1            | 0           | 22.172ms     |"
      ]
     },
     "metadata": {},
     "output_type": "display_data"
    },
    {
     "data": {
      "text/html": [
       "<pre>| 35           | 2.75        | 1.12s        |</pre>"
      ],
      "text/plain": [
       "| 35           | 2.75        | 1.12s        |"
      ]
     },
     "metadata": {},
     "output_type": "display_data"
    },
    {
     "data": {
      "text/html": [
       "<pre>| 62           | 5           | 2.09s        |</pre>"
      ],
      "text/plain": [
       "| 62           | 5           | 2.09s        |"
      ]
     },
     "metadata": {},
     "output_type": "display_data"
    },
    {
     "data": {
      "text/html": [
       "<pre>| 96           | 7.75        | 3.11s        |</pre>"
      ],
      "text/plain": [
       "| 96           | 7.75        | 3.11s        |"
      ]
     },
     "metadata": {},
     "output_type": "display_data"
    },
    {
     "data": {
      "text/html": [
       "<pre>| 125          | 10.25       | 4.09s        |</pre>"
      ],
      "text/plain": [
       "| 125          | 10.25       | 4.09s        |"
      ]
     },
     "metadata": {},
     "output_type": "display_data"
    },
    {
     "data": {
      "text/html": [
       "<pre>| 156          | 12.75       | 5.05s        |</pre>"
      ],
      "text/plain": [
       "| 156          | 12.75       | 5.05s        |"
      ]
     },
     "metadata": {},
     "output_type": "display_data"
    },
    {
     "data": {
      "text/html": [
       "<pre>| 191          | 15.75       | 6.05s        |</pre>"
      ],
      "text/plain": [
       "| 191          | 15.75       | 6.05s        |"
      ]
     },
     "metadata": {},
     "output_type": "display_data"
    },
    {
     "data": {
      "text/html": [
       "<pre>| 226          | 18.5        | 7.07s        |</pre>"
      ],
      "text/plain": [
       "| 226          | 18.5        | 7.07s        |"
      ]
     },
     "metadata": {},
     "output_type": "display_data"
    },
    {
     "data": {
      "text/html": [
       "<pre>| 248          | 20.5        | 8.07s        |</pre>"
      ],
      "text/plain": [
       "| 248          | 20.5        | 8.07s        |"
      ]
     },
     "metadata": {},
     "output_type": "display_data"
    },
    {
     "data": {
      "text/html": [
       "<pre>| 284          | 23.25       | 9.07s        |</pre>"
      ],
      "text/plain": [
       "| 284          | 23.25       | 9.07s        |"
      ]
     },
     "metadata": {},
     "output_type": "display_data"
    },
    {
     "data": {
      "text/html": [
       "<pre>| 313          | 25.75       | 10.09s       |</pre>"
      ],
      "text/plain": [
       "| 313          | 25.75       | 10.09s       |"
      ]
     },
     "metadata": {},
     "output_type": "display_data"
    },
    {
     "data": {
      "text/html": [
       "<pre>| 347          | 28.5        | 11.12s       |</pre>"
      ],
      "text/plain": [
       "| 347          | 28.5        | 11.12s       |"
      ]
     },
     "metadata": {},
     "output_type": "display_data"
    },
    {
     "data": {
      "text/html": [
       "<pre>| 382          | 31.5        | 12.18s       |</pre>"
      ],
      "text/plain": [
       "| 382          | 31.5        | 12.18s       |"
      ]
     },
     "metadata": {},
     "output_type": "display_data"
    },
    {
     "data": {
      "text/html": [
       "<pre>| 413          | 34          | 13.12s       |</pre>"
      ],
      "text/plain": [
       "| 413          | 34          | 13.12s       |"
      ]
     },
     "metadata": {},
     "output_type": "display_data"
    },
    {
     "data": {
      "text/html": [
       "<pre>| 453          | 37.25       | 14.12s       |</pre>"
      ],
      "text/plain": [
       "| 453          | 37.25       | 14.12s       |"
      ]
     },
     "metadata": {},
     "output_type": "display_data"
    },
    {
     "data": {
      "text/html": [
       "<pre>| 483          | 39.75       | 15.12s       |</pre>"
      ],
      "text/plain": [
       "| 483          | 39.75       | 15.12s       |"
      ]
     },
     "metadata": {},
     "output_type": "display_data"
    },
    {
     "data": {
      "text/html": [
       "<pre>| 522          | 43          | 16.09s       |</pre>"
      ],
      "text/plain": [
       "| 522          | 43          | 16.09s       |"
      ]
     },
     "metadata": {},
     "output_type": "display_data"
    }
   ],
   "source": [
    "# input parameters\n",
    "#=================================\n",
    "classifier_list = ['KNN']\n",
    "#=================================\n",
    "\n",
    "window_length_list = [100, 150, 200, 250, 300]\n",
    "window_step = 50\n",
    "feature_type_list = [1, 2, 3, 12, 13, 23, 123]  # 1: dg, 2: cc, 3: pl, 12: dg+cc, 13: dg+pl, 23: cc+pl, 123: dg+cc+pl\n",
    "k_list    = range(1,11)\n",
    "\n",
    "for mouse_id_test in range(2,3):\n",
    "\n",
    "    for win_ln_idx in range(len(window_length_list)): # NOTE HERE!!!!! REMOVE \"1\" AFTER THIS SESSION!!!!!!!!!!!!!\n",
    "        window_length = window_length_list[win_ln_idx]\n",
    "        \n",
    "        ##========================= load features\n",
    "        # print on screen: progress\n",
    "        current_progress = (\"\\n========================================\\nLoading features for testing mouse%02d, window_length%03d ...\\n\" \\\n",
    "                            % (mouse_id_test, window_length))\n",
    "        print current_progress\n",
    "\n",
    "        # load and organize feature matrix\n",
    "        comb_train, comb_test = lz_load_feature_matrix_across_subject(mouse_id_test, window_length, window_step)       \n",
    "        \n",
    "        for classifier_idx in range(len(classifier_list)):\n",
    "            classifier = classifier_list[classifier_idx]\n",
    "\n",
    "            # initiate\n",
    "            AC = [[0] * len(k_list) for _ in range(len(feature_type_list))] \n",
    "            SE = [[0] * len(k_list) for _ in range(len(feature_type_list))] \n",
    "            SP = [[0] * len(k_list) for _ in range(len(feature_type_list))] \n",
    "\n",
    "            for feature_type_idx in range(len(feature_type_list)):\n",
    "                feature_type = feature_type_list[feature_type_idx]\n",
    "\n",
    "                ##========================= classification\n",
    "                for k_idx in range(len(k_list)):\n",
    "                    k = k_list[k_idx]                    \n",
    "\n",
    "                    # print on screen: progress\n",
    "                    current_progress = (\"\\n----------------------------------------\\nClassifying --> classifier: %s, feature_type%03d, k: %02d ...\" \\\n",
    "                                        % (classifier, feature_type, k))\n",
    "                    print current_progress\n",
    "\n",
    "                    if classifier == 'LR':\n",
    "                        AC[feature_type_idx][l2_penalty_idx],SE[feature_type_idx][l2_penalty_idx],SP[feature_type_idx][l2_penalty_idx] = \\\n",
    "                            lz_logistic_across_subjects_AC_SE_SP(comb_train, comb_test, feature_type, l2_penalty, l1_penalty)\n",
    "                    if classifier == 'SVM':\n",
    "                        AC[feature_type_idx][l2_penalty_idx],SE[feature_type_idx][l2_penalty_idx],SP[feature_type_idx][l2_penalty_idx] = \\\n",
    "                            lz_svm_across_subjects_AC_SE_SP(comb_train, comb_test, feature_type, l2_penalty)\n",
    "                    # if classifier == 'RF'\n",
    "                        # ...\n",
    "                    if classifier == 'KNN':\n",
    "                        AC[feature_type_idx][k_idx],SE[feature_type_idx][k_idx],SP[feature_type_idx][k_idx] = \\\n",
    "                            lz_KNN_across_subjects_AC_SE_SP(comb_train, comb_test, feature_type, k)\n",
    "\n",
    "            ##====================== save results\n",
    "            AC_saveName = (\"%s_across_subject_test_mouse%02d_window_length%03d_AC.csv\" \\\n",
    "                           % (classifier,mouse_id_test,window_length))\n",
    "            SE_saveName = (\"%s_across_subject_test_mouse%02d_window_length%03d_SE.csv\" \\\n",
    "                           % (classifier,mouse_id_test,window_length))\n",
    "            SP_saveName = (\"%s_across_subject_test_mouse%02d_window_length%03d_SP.csv\" \\\n",
    "                           % (classifier,mouse_id_test,window_length))\n",
    "            df_AC = pd.DataFrame(AC)\n",
    "            df_SE = pd.DataFrame(SE)        \n",
    "            df_SP = pd.DataFrame(SP)  \n",
    "            \n",
    "            os.chdir(\"/Users/lizhu/Dropbox/projects/calcium/classification_result/across_subject\") \n",
    "            df_AC.to_csv(AC_saveName, index = False, header = False)\n",
    "            df_SE.to_csv(SE_saveName, index = False, header = False)\n",
    "            df_SP.to_csv(SP_saveName, index = False, header = False)"
   ]
  },
  {
   "cell_type": "code",
   "execution_count": 3,
   "metadata": {
    "collapsed": false
   },
   "outputs": [],
   "source": [
    "# load and organize feature matrix\n",
    "def lz_load_feature_matrix_across_subject(mouse_id_test, window_length, window_step):\n",
    "    # the mouse_id is the one that saved for the testing set\n",
    "    # the mice other than the mouse_id are used for the training set\n",
    "    \n",
    "    mouse_id_full = range(1,7)\n",
    "    mouse_id_trian = np.delete(mouse_id_full, mouse_id_test-1)\n",
    "    mouse_id_train = list(mouse_id_trian)\n",
    "    \n",
    "    # load training dataset\n",
    "    idx = 0\n",
    "    for mouse_id_load in mouse_id_train:\n",
    "        idx = idx + 1\n",
    "        fileName = \"format4ML_GC6f_emx_0\" + str(mouse_id_load) + \"_windowLen\" + str(window_length) + \"_winStep_0\" + str(window_step) + \"_v2_threshold_10.csv\"\n",
    "        loadPath = \"/Users/lizhu/Dropbox/projects/calcium/format4ML/\" + fileName\n",
    "#         current_progress = (\"\\n----------------------------------------\\nloaded--> mouse_id: %s ...\" \\\n",
    "#                                         % (mouse_id_load))\n",
    "#         print current_progress\n",
    "        comb = gl.SFrame.read_csv(loadPath, delimiter=',',header=False,verbose = False)\n",
    "        colName_dg = 'degree'\n",
    "        colName_dg = gl.SArray([colName_dg + repr(i+1) for i in range(30)])\n",
    "        colName_cc = 'clusteringCoef'\n",
    "        colName_cc = gl.SArray([colName_cc + repr(i+1) for i in range(30)])\n",
    "        colName_pl = 'pathlength'\n",
    "        colName_pl = gl.SArray([colName_pl + repr(i+1) for i in range(30)])\n",
    "        colName = colName_dg.append(colName_cc.append(colName_pl.append(gl.SArray(['Whisker']))))\n",
    "        colName = (list(colName))\n",
    "        dictionary = dict(zip(comb.column_names(), colName))\n",
    "        comb = comb.rename(dictionary)\n",
    "        comb = gl.toolkits.cross_validation.shuffle(comb, random_seed=1)\n",
    "        # comb_train['Whisker'].show(view = 'Categorical')\n",
    "        \n",
    "        if idx == 1:\n",
    "            comb_train = comb\n",
    "        else:\n",
    "            comb_train = comb_train.append(comb)\n",
    "                    \n",
    "    # load testing dataset\n",
    "    fileName = \"format4ML_GC6f_emx_0\" + str(mouse_id_test) + \"_windowLen\" + str(window_length) + \"_winStep_0\" + str(window_step) + \"_v2_threshold_10.csv\"\n",
    "    loadPath = \"/Users/lizhu/Dropbox/projects/calcium/format4ML/\" + fileName\n",
    "#     current_progress = (\"\\n----------------------------------------\\nloaded--> mouse_id: %s ...\" \\\n",
    "#                                         % (mouse_id_test))\n",
    "#     print current_progress\n",
    "    comb = gl.SFrame.read_csv(loadPath, delimiter=',',header=False,verbose = False)\n",
    "    colName_dg = 'degree'\n",
    "    colName_dg = gl.SArray([colName_dg + repr(i+1) for i in range(30)])\n",
    "    colName_cc = 'clusteringCoef'\n",
    "    colName_cc = gl.SArray([colName_cc + repr(i+1) for i in range(30)])\n",
    "    colName_pl = 'pathlength'\n",
    "    colName_pl = gl.SArray([colName_pl + repr(i+1) for i in range(30)])\n",
    "    colName = colName_dg.append(colName_cc.append(colName_pl.append(gl.SArray(['Whisker']))))\n",
    "    colName = (list(colName))\n",
    "    dictionary = dict(zip(comb.column_names(), colName))\n",
    "    comb = comb.rename(dictionary)\n",
    "    comb_test = gl.toolkits.cross_validation.shuffle(comb, random_seed=1)\n",
    "        \n",
    "    \n",
    "    return comb_train, comb_test"
   ]
  },
  {
   "cell_type": "code",
   "execution_count": 5,
   "metadata": {
    "collapsed": true
   },
   "outputs": [],
   "source": [
    "# train and cross-validation\n",
    "def lz_KNN_across_subjects_AC_SE_SP(data_train, data_test, feature_type, k):\n",
    "    \n",
    "    # clearify features\n",
    "    feature_dg = data_train.column_names()[0:30] # feature 1~30: degree, 31~60: clustering coefficient, 60~90: pathlength\n",
    "    feature_cc = data_train.column_names()[30:60]\n",
    "    feature_pl = data_train.column_names()[60:90]\n",
    "    \n",
    "    if feature_type == 1:   feature = feature_dg\n",
    "    if feature_type == 2:   feature = feature_cc\n",
    "    if feature_type == 3:   feature = feature_pl\n",
    "    if feature_type == 12:  feature = feature_dg + feature_cc\n",
    "    if feature_type == 13:  feature = feature_dg + feature_pl\n",
    "    if feature_type == 23:  feature = feature_cc + feature_pl\n",
    "    if feature_type == 123: feature = feature_dg + feature_cc + feature_pl\n",
    "     \n",
    "    m = gl.nearest_neighbor_classifier.create(data_train,\n",
    "                                              target = 'Whisker',\n",
    "                                              features = feature,\n",
    "                                              distance = 'euclidean',\n",
    "                                              verbose = False)\n",
    "    confusion_matrix = m.evaluate(data_test, 'confusion_matrix', max_neighbors = k)\n",
    "    confusion_matrix = confusion_matrix.values()[0]\n",
    "\n",
    "    TP, TN, FP, FN = lz_extract_ACC_SE_SP(confusion_matrix)\n",
    "\n",
    "    SP = float(TN) / (TN + FP)\n",
    "    SE = float(TP) / (TP + FN)\n",
    "    AC = float(TP+TN) / (TP+TN+FP+FN)\n",
    "    \n",
    "    print 'AC = ', AC\n",
    "    print 'SE = ', SE\n",
    "    print 'SP = ', SP\n",
    "    \n",
    "    return AC, SE, SP"
   ]
  },
  {
   "cell_type": "code",
   "execution_count": 3,
   "metadata": {
    "collapsed": false
   },
   "outputs": [],
   "source": [
    "# train and cross-validation\n",
    "def lz_logistic_across_subjects_AC_SE_SP(data_train, data_test, feature_type, l2_penalty, l1_penalty):\n",
    "    \n",
    "    # clearify features\n",
    "    feature_dg = data_train.column_names()[0:30] # feature 1~30: degree, 31~60: clustering coefficient, 60~90: pathlength\n",
    "    feature_cc = data_train.column_names()[30:60]\n",
    "    feature_pl = data_train.column_names()[60:90]\n",
    "    \n",
    "    if feature_type == 1:   feature = feature_dg\n",
    "    if feature_type == 2:   feature = feature_cc\n",
    "    if feature_type == 3:   feature = feature_pl\n",
    "    if feature_type == 12:  feature = feature_dg + feature_cc\n",
    "    if feature_type == 13:  feature = feature_dg + feature_pl\n",
    "    if feature_type == 23:  feature = feature_cc + feature_pl\n",
    "    if feature_type == 123: feature = feature_dg + feature_cc + feature_pl\n",
    "\n",
    "    m = gl.logistic_classifier.create(data_train,\n",
    "                                      target='Whisker',\n",
    "                                      features=feature,\n",
    "                                      l2_penalty = l2_penalty, \n",
    "                                      l1_penalty = l1_penalty,\n",
    "                                      validation_set=None,\n",
    "                                      verbose = False)\n",
    "    confusion_matrix = m.evaluate(data_test, 'confusion_matrix')\n",
    "    confusion_matrix = confusion_matrix.values()[0]\n",
    "\n",
    "    TP, TN, FP, FN = lz_extract_ACC_SE_SP(confusion_matrix)\n",
    "\n",
    "    SP = float(TN) / (TN + FP)\n",
    "    SE = float(TP) / (TP + FN)\n",
    "    AC = float(TP+TN) / (TP+TN+FP+FN)\n",
    "    \n",
    "    print 'AC = ', AC\n",
    "    print 'SE = ', SE\n",
    "    print 'SP = ', SP\n",
    "    \n",
    "    return AC, SE, SP"
   ]
  },
  {
   "cell_type": "code",
   "execution_count": 7,
   "metadata": {
    "collapsed": false
   },
   "outputs": [],
   "source": [
    "def lz_extract_ACC_SE_SP(confusion_matrix):\n",
    "    TP = confusion_matrix[(confusion_matrix['target_label']==1) & (confusion_matrix['predicted_label']==1)]\n",
    "    if np.size(TP) == 0:\n",
    "        TP = 0\n",
    "    else:\n",
    "        TP = TP['count'][0]\n",
    "    TN = confusion_matrix[(confusion_matrix['target_label']==0) & (confusion_matrix['predicted_label']==0)]\n",
    "    if np.size(TN) == 0:\n",
    "        TN = 0\n",
    "    else:\n",
    "        TN = TN['count'][0]\n",
    "    FP = confusion_matrix[(confusion_matrix['target_label']==0) & (confusion_matrix['predicted_label']==1)]\n",
    "    if np.size(FP) == 0:\n",
    "        FP = 0\n",
    "    else:\n",
    "        FP = FP['count'][0]\n",
    "    FN = confusion_matrix[(confusion_matrix['target_label']==1) & (confusion_matrix['predicted_label']==0)]\n",
    "    if np.size(FN) == 0:\n",
    "        FN = 0\n",
    "    else:\n",
    "        FN = FN['count'][0]\n",
    "    \n",
    "    return TP, TN, FP, FN"
   ]
  }
 ],
 "metadata": {
  "kernelspec": {
   "display_name": "Python 2",
   "language": "python",
   "name": "python2"
  },
  "language_info": {
   "codemirror_mode": {
    "name": "ipython",
    "version": 2
   },
   "file_extension": ".py",
   "mimetype": "text/x-python",
   "name": "python",
   "nbconvert_exporter": "python",
   "pygments_lexer": "ipython2",
   "version": "2.7.11"
  }
 },
 "nbformat": 4,
 "nbformat_minor": 0
}
