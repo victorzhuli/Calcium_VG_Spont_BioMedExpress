{
 "cells": [
  {
   "cell_type": "code",
   "execution_count": 1,
   "metadata": {
    "collapsed": false
   },
   "outputs": [
    {
     "name": "stderr",
     "output_type": "stream",
     "text": [
      "[INFO] graphlab.cython.cy_server: GraphLab Create v2.1 started. Logging: /tmp/graphlab_server_1489624938.log\n"
     ]
    },
    {
     "name": "stdout",
     "output_type": "stream",
     "text": [
      "This non-commercial license of GraphLab Create for academic use is assigned to victor.li.zhu@rutgers.edu and will expire on October 06, 2017.\n"
     ]
    }
   ],
   "source": [
    "import graphlab as gl\n",
    "import numpy as np\n",
    "import pandas as pd\n",
    "import os\n",
    "from pylab import *"
   ]
  },
  {
   "cell_type": "code",
   "execution_count": null,
   "metadata": {
    "collapsed": false
   },
   "outputs": [
    {
     "name": "stdout",
     "output_type": "stream",
     "text": [
      "\n",
      "========================================\n",
      "Loading features for testing mouse06, window_length100 ...\n",
      "\n",
      "\n",
      "----------------------------------------\n",
      "Classifying --> classifier: KNN, feature_type001, k: 01 ...\n"
     ]
    },
    {
     "data": {
      "text/html": [
       "<pre>+--------------+-------------+--------------+</pre>"
      ],
      "text/plain": [
       "+--------------+-------------+--------------+"
      ]
     },
     "metadata": {},
     "output_type": "display_data"
    },
    {
     "data": {
      "text/html": [
       "<pre>| Query points | % Complete. | Elapsed Time |</pre>"
      ],
      "text/plain": [
       "| Query points | % Complete. | Elapsed Time |"
      ]
     },
     "metadata": {},
     "output_type": "display_data"
    },
    {
     "data": {
      "text/html": [
       "<pre>+--------------+-------------+--------------+</pre>"
      ],
      "text/plain": [
       "+--------------+-------------+--------------+"
      ]
     },
     "metadata": {},
     "output_type": "display_data"
    },
    {
     "data": {
      "text/html": [
       "<pre>| 1            | 0           | 30.364ms     |</pre>"
      ],
      "text/plain": [
       "| 1            | 0           | 30.364ms     |"
      ]
     },
     "metadata": {},
     "output_type": "display_data"
    },
    {
     "data": {
      "text/html": [
       "<pre>| 48           | 3.75        | 1.05s        |</pre>"
      ],
      "text/plain": [
       "| 48           | 3.75        | 1.05s        |"
      ]
     },
     "metadata": {},
     "output_type": "display_data"
    },
    {
     "data": {
      "text/html": [
       "<pre>| 86           | 6.75        | 2.03s        |</pre>"
      ],
      "text/plain": [
       "| 86           | 6.75        | 2.03s        |"
      ]
     },
     "metadata": {},
     "output_type": "display_data"
    },
    {
     "data": {
      "text/html": [
       "<pre>| 122          | 9.75        | 3.03s        |</pre>"
      ],
      "text/plain": [
       "| 122          | 9.75        | 3.03s        |"
      ]
     },
     "metadata": {},
     "output_type": "display_data"
    },
    {
     "data": {
      "text/html": [
       "<pre>| 164          | 13          | 4.12s        |</pre>"
      ],
      "text/plain": [
       "| 164          | 13          | 4.12s        |"
      ]
     },
     "metadata": {},
     "output_type": "display_data"
    },
    {
     "data": {
      "text/html": [
       "<pre>| 202          | 16          | 5.09s        |</pre>"
      ],
      "text/plain": [
       "| 202          | 16          | 5.09s        |"
      ]
     },
     "metadata": {},
     "output_type": "display_data"
    },
    {
     "data": {
      "text/html": [
       "<pre>| 243          | 19.25       | 6.10s        |</pre>"
      ],
      "text/plain": [
       "| 243          | 19.25       | 6.10s        |"
      ]
     },
     "metadata": {},
     "output_type": "display_data"
    },
    {
     "data": {
      "text/html": [
       "<pre>| 282          | 22.5        | 7.04s        |</pre>"
      ],
      "text/plain": [
       "| 282          | 22.5        | 7.04s        |"
      ]
     },
     "metadata": {},
     "output_type": "display_data"
    },
    {
     "data": {
      "text/html": [
       "<pre>| 320          | 25.5        | 8.09s        |</pre>"
      ],
      "text/plain": [
       "| 320          | 25.5        | 8.09s        |"
      ]
     },
     "metadata": {},
     "output_type": "display_data"
    },
    {
     "data": {
      "text/html": [
       "<pre>| 369          | 29.5        | 9.08s        |</pre>"
      ],
      "text/plain": [
       "| 369          | 29.5        | 9.08s        |"
      ]
     },
     "metadata": {},
     "output_type": "display_data"
    },
    {
     "data": {
      "text/html": [
       "<pre>| 421          | 33.5        | 10.14s       |</pre>"
      ],
      "text/plain": [
       "| 421          | 33.5        | 10.14s       |"
      ]
     },
     "metadata": {},
     "output_type": "display_data"
    },
    {
     "data": {
      "text/html": [
       "<pre>| 474          | 37.75       | 11.06s       |</pre>"
      ],
      "text/plain": [
       "| 474          | 37.75       | 11.06s       |"
      ]
     },
     "metadata": {},
     "output_type": "display_data"
    },
    {
     "data": {
      "text/html": [
       "<pre>| 521          | 41.5        | 12.09s       |</pre>"
      ],
      "text/plain": [
       "| 521          | 41.5        | 12.09s       |"
      ]
     },
     "metadata": {},
     "output_type": "display_data"
    },
    {
     "data": {
      "text/html": [
       "<pre>| 573          | 45.75       | 13.08s       |</pre>"
      ],
      "text/plain": [
       "| 573          | 45.75       | 13.08s       |"
      ]
     },
     "metadata": {},
     "output_type": "display_data"
    },
    {
     "data": {
      "text/html": [
       "<pre>| 615          | 49.25       | 14.07s       |</pre>"
      ],
      "text/plain": [
       "| 615          | 49.25       | 14.07s       |"
      ]
     },
     "metadata": {},
     "output_type": "display_data"
    },
    {
     "data": {
      "text/html": [
       "<pre>| 668          | 53.5        | 15.07s       |</pre>"
      ],
      "text/plain": [
       "| 668          | 53.5        | 15.07s       |"
      ]
     },
     "metadata": {},
     "output_type": "display_data"
    },
    {
     "data": {
      "text/html": [
       "<pre>| 723          | 57.75       | 16.16s       |</pre>"
      ],
      "text/plain": [
       "| 723          | 57.75       | 16.16s       |"
      ]
     },
     "metadata": {},
     "output_type": "display_data"
    },
    {
     "data": {
      "text/html": [
       "<pre>| 761          | 60.75       | 17.07s       |</pre>"
      ],
      "text/plain": [
       "| 761          | 60.75       | 17.07s       |"
      ]
     },
     "metadata": {},
     "output_type": "display_data"
    },
    {
     "data": {
      "text/html": [
       "<pre>| 814          | 65          | 18.13s       |</pre>"
      ],
      "text/plain": [
       "| 814          | 65          | 18.13s       |"
      ]
     },
     "metadata": {},
     "output_type": "display_data"
    },
    {
     "data": {
      "text/html": [
       "<pre>| 860          | 68.75       | 19.08s       |</pre>"
      ],
      "text/plain": [
       "| 860          | 68.75       | 19.08s       |"
      ]
     },
     "metadata": {},
     "output_type": "display_data"
    },
    {
     "data": {
      "text/html": [
       "<pre>| 901          | 72          | 20.07s       |</pre>"
      ],
      "text/plain": [
       "| 901          | 72          | 20.07s       |"
      ]
     },
     "metadata": {},
     "output_type": "display_data"
    },
    {
     "data": {
      "text/html": [
       "<pre>| 944          | 75.5        | 21.11s       |</pre>"
      ],
      "text/plain": [
       "| 944          | 75.5        | 21.11s       |"
      ]
     },
     "metadata": {},
     "output_type": "display_data"
    },
    {
     "data": {
      "text/html": [
       "<pre>| 981          | 78.5        | 22.11s       |</pre>"
      ],
      "text/plain": [
       "| 981          | 78.5        | 22.11s       |"
      ]
     },
     "metadata": {},
     "output_type": "display_data"
    },
    {
     "data": {
      "text/html": [
       "<pre>| 1015         | 81.25       | 23.17s       |</pre>"
      ],
      "text/plain": [
       "| 1015         | 81.25       | 23.17s       |"
      ]
     },
     "metadata": {},
     "output_type": "display_data"
    },
    {
     "data": {
      "text/html": [
       "<pre>| 1056         | 84.5        | 24.12s       |</pre>"
      ],
      "text/plain": [
       "| 1056         | 84.5        | 24.12s       |"
      ]
     },
     "metadata": {},
     "output_type": "display_data"
    },
    {
     "data": {
      "text/html": [
       "<pre>| 1101         | 88          | 25.15s       |</pre>"
      ],
      "text/plain": [
       "| 1101         | 88          | 25.15s       |"
      ]
     },
     "metadata": {},
     "output_type": "display_data"
    },
    {
     "data": {
      "text/html": [
       "<pre>| 1141         | 91.25       | 26.12s       |</pre>"
      ],
      "text/plain": [
       "| 1141         | 91.25       | 26.12s       |"
      ]
     },
     "metadata": {},
     "output_type": "display_data"
    },
    {
     "data": {
      "text/html": [
       "<pre>| 1177         | 94.25       | 27.16s       |</pre>"
      ],
      "text/plain": [
       "| 1177         | 94.25       | 27.16s       |"
      ]
     },
     "metadata": {},
     "output_type": "display_data"
    },
    {
     "data": {
      "text/html": [
       "<pre>| 1213         | 97          | 28.15s       |</pre>"
      ],
      "text/plain": [
       "| 1213         | 97          | 28.15s       |"
      ]
     },
     "metadata": {},
     "output_type": "display_data"
    },
    {
     "data": {
      "text/html": [
       "<pre>| 1243         | 99.5        | 29.10s       |</pre>"
      ],
      "text/plain": [
       "| 1243         | 99.5        | 29.10s       |"
      ]
     },
     "metadata": {},
     "output_type": "display_data"
    },
    {
     "data": {
      "text/html": [
       "<pre>| Done         |             | 29.39s       |</pre>"
      ],
      "text/plain": [
       "| Done         |             | 29.39s       |"
      ]
     },
     "metadata": {},
     "output_type": "display_data"
    },
    {
     "data": {
      "text/html": [
       "<pre>+--------------+-------------+--------------+</pre>"
      ],
      "text/plain": [
       "+--------------+-------------+--------------+"
      ]
     },
     "metadata": {},
     "output_type": "display_data"
    },
    {
     "data": {
      "text/html": [
       "<pre>+--------------+-------------+--------------+</pre>"
      ],
      "text/plain": [
       "+--------------+-------------+--------------+"
      ]
     },
     "metadata": {},
     "output_type": "display_data"
    },
    {
     "data": {
      "text/html": [
       "<pre>| Query points | % Complete. | Elapsed Time |</pre>"
      ],
      "text/plain": [
       "| Query points | % Complete. | Elapsed Time |"
      ]
     },
     "metadata": {},
     "output_type": "display_data"
    },
    {
     "data": {
      "text/html": [
       "<pre>+--------------+-------------+--------------+</pre>"
      ],
      "text/plain": [
       "+--------------+-------------+--------------+"
      ]
     },
     "metadata": {},
     "output_type": "display_data"
    },
    {
     "data": {
      "text/html": [
       "<pre>| 1            | 0           | 32.311ms     |</pre>"
      ],
      "text/plain": [
       "| 1            | 0           | 32.311ms     |"
      ]
     },
     "metadata": {},
     "output_type": "display_data"
    },
    {
     "data": {
      "text/html": [
       "<pre>| 63           | 5           | 1.03s        |</pre>"
      ],
      "text/plain": [
       "| 63           | 5           | 1.03s        |"
      ]
     },
     "metadata": {},
     "output_type": "display_data"
    },
    {
     "data": {
      "text/html": [
       "<pre>| 102          | 8           | 2.04s        |</pre>"
      ],
      "text/plain": [
       "| 102          | 8           | 2.04s        |"
      ]
     },
     "metadata": {},
     "output_type": "display_data"
    },
    {
     "data": {
      "text/html": [
       "<pre>| 153          | 12.25       | 3.05s        |</pre>"
      ],
      "text/plain": [
       "| 153          | 12.25       | 3.05s        |"
      ]
     },
     "metadata": {},
     "output_type": "display_data"
    },
    {
     "data": {
      "text/html": [
       "<pre>| 194          | 15.5        | 4.04s        |</pre>"
      ],
      "text/plain": [
       "| 194          | 15.5        | 4.04s        |"
      ]
     },
     "metadata": {},
     "output_type": "display_data"
    },
    {
     "data": {
      "text/html": [
       "<pre>| 237          | 18.75       | 5.11s        |</pre>"
      ],
      "text/plain": [
       "| 237          | 18.75       | 5.11s        |"
      ]
     },
     "metadata": {},
     "output_type": "display_data"
    },
    {
     "data": {
      "text/html": [
       "<pre>| 283          | 22.5        | 6.10s        |</pre>"
      ],
      "text/plain": [
       "| 283          | 22.5        | 6.10s        |"
      ]
     },
     "metadata": {},
     "output_type": "display_data"
    },
    {
     "data": {
      "text/html": [
       "<pre>| 325          | 26          | 7.05s        |</pre>"
      ],
      "text/plain": [
       "| 325          | 26          | 7.05s        |"
      ]
     },
     "metadata": {},
     "output_type": "display_data"
    },
    {
     "data": {
      "text/html": [
       "<pre>| 373          | 29.75       | 8.08s        |</pre>"
      ],
      "text/plain": [
       "| 373          | 29.75       | 8.08s        |"
      ]
     },
     "metadata": {},
     "output_type": "display_data"
    },
    {
     "data": {
      "text/html": [
       "<pre>| 425          | 34          | 9.08s        |</pre>"
      ],
      "text/plain": [
       "| 425          | 34          | 9.08s        |"
      ]
     },
     "metadata": {},
     "output_type": "display_data"
    },
    {
     "data": {
      "text/html": [
       "<pre>| 474          | 37.75       | 10.05s       |</pre>"
      ],
      "text/plain": [
       "| 474          | 37.75       | 10.05s       |"
      ]
     },
     "metadata": {},
     "output_type": "display_data"
    },
    {
     "data": {
      "text/html": [
       "<pre>| 521          | 41.5        | 11.06s       |</pre>"
      ],
      "text/plain": [
       "| 521          | 41.5        | 11.06s       |"
      ]
     },
     "metadata": {},
     "output_type": "display_data"
    },
    {
     "data": {
      "text/html": [
       "<pre>| 569          | 45.5        | 12.10s       |</pre>"
      ],
      "text/plain": [
       "| 569          | 45.5        | 12.10s       |"
      ]
     },
     "metadata": {},
     "output_type": "display_data"
    },
    {
     "data": {
      "text/html": [
       "<pre>| 607          | 48.5        | 13.06s       |</pre>"
      ],
      "text/plain": [
       "| 607          | 48.5        | 13.06s       |"
      ]
     },
     "metadata": {},
     "output_type": "display_data"
    },
    {
     "data": {
      "text/html": [
       "<pre>| 653          | 52.25       | 14.07s       |</pre>"
      ],
      "text/plain": [
       "| 653          | 52.25       | 14.07s       |"
      ]
     },
     "metadata": {},
     "output_type": "display_data"
    },
    {
     "data": {
      "text/html": [
       "<pre>| 695          | 55.5        | 15.07s       |</pre>"
      ],
      "text/plain": [
       "| 695          | 55.5        | 15.07s       |"
      ]
     },
     "metadata": {},
     "output_type": "display_data"
    },
    {
     "data": {
      "text/html": [
       "<pre>| 725          | 58          | 16.09s       |</pre>"
      ],
      "text/plain": [
       "| 725          | 58          | 16.09s       |"
      ]
     },
     "metadata": {},
     "output_type": "display_data"
    },
    {
     "data": {
      "text/html": [
       "<pre>| 756          | 60.5        | 17.13s       |</pre>"
      ],
      "text/plain": [
       "| 756          | 60.5        | 17.13s       |"
      ]
     },
     "metadata": {},
     "output_type": "display_data"
    },
    {
     "data": {
      "text/html": [
       "<pre>| 797          | 63.75       | 18.10s       |</pre>"
      ],
      "text/plain": [
       "| 797          | 63.75       | 18.10s       |"
      ]
     },
     "metadata": {},
     "output_type": "display_data"
    },
    {
     "data": {
      "text/html": [
       "<pre>| 833          | 66.5        | 19.10s       |</pre>"
      ],
      "text/plain": [
       "| 833          | 66.5        | 19.10s       |"
      ]
     },
     "metadata": {},
     "output_type": "display_data"
    },
    {
     "data": {
      "text/html": [
       "<pre>| 865          | 69.25       | 20.12s       |</pre>"
      ],
      "text/plain": [
       "| 865          | 69.25       | 20.12s       |"
      ]
     },
     "metadata": {},
     "output_type": "display_data"
    },
    {
     "data": {
      "text/html": [
       "<pre>| 897          | 71.75       | 21.08s       |</pre>"
      ],
      "text/plain": [
       "| 897          | 71.75       | 21.08s       |"
      ]
     },
     "metadata": {},
     "output_type": "display_data"
    },
    {
     "data": {
      "text/html": [
       "<pre>| 933          | 74.75       | 22.10s       |</pre>"
      ],
      "text/plain": [
       "| 933          | 74.75       | 22.10s       |"
      ]
     },
     "metadata": {},
     "output_type": "display_data"
    },
    {
     "data": {
      "text/html": [
       "<pre>| 979          | 78.25       | 23.12s       |</pre>"
      ],
      "text/plain": [
       "| 979          | 78.25       | 23.12s       |"
      ]
     },
     "metadata": {},
     "output_type": "display_data"
    },
    {
     "data": {
      "text/html": [
       "<pre>| 1015         | 81.25       | 24.11s       |</pre>"
      ],
      "text/plain": [
       "| 1015         | 81.25       | 24.11s       |"
      ]
     },
     "metadata": {},
     "output_type": "display_data"
    },
    {
     "data": {
      "text/html": [
       "<pre>| 1062         | 85          | 25.17s       |</pre>"
      ],
      "text/plain": [
       "| 1062         | 85          | 25.17s       |"
      ]
     },
     "metadata": {},
     "output_type": "display_data"
    },
    {
     "data": {
      "text/html": [
       "<pre>| 1096         | 87.75       | 26.11s       |</pre>"
      ],
      "text/plain": [
       "| 1096         | 87.75       | 26.11s       |"
      ]
     },
     "metadata": {},
     "output_type": "display_data"
    },
    {
     "data": {
      "text/html": [
       "<pre>| 1137         | 91          | 27.12s       |</pre>"
      ],
      "text/plain": [
       "| 1137         | 91          | 27.12s       |"
      ]
     },
     "metadata": {},
     "output_type": "display_data"
    },
    {
     "data": {
      "text/html": [
       "<pre>| 1186         | 95          | 28.16s       |</pre>"
      ],
      "text/plain": [
       "| 1186         | 95          | 28.16s       |"
      ]
     },
     "metadata": {},
     "output_type": "display_data"
    },
    {
     "data": {
      "text/html": [
       "<pre>| 1227         | 98.25       | 29.10s       |</pre>"
      ],
      "text/plain": [
       "| 1227         | 98.25       | 29.10s       |"
      ]
     },
     "metadata": {},
     "output_type": "display_data"
    },
    {
     "data": {
      "text/html": [
       "<pre>| Done         |             | 30.06s       |</pre>"
      ],
      "text/plain": [
       "| Done         |             | 30.06s       |"
      ]
     },
     "metadata": {},
     "output_type": "display_data"
    },
    {
     "data": {
      "text/html": [
       "<pre>+--------------+-------------+--------------+</pre>"
      ],
      "text/plain": [
       "+--------------+-------------+--------------+"
      ]
     },
     "metadata": {},
     "output_type": "display_data"
    },
    {
     "name": "stdout",
     "output_type": "stream",
     "text": [
      "AC =  0.817307692308\n",
      "SE =  0.515151515152\n",
      "SP =  0.863342566944\n",
      "\n",
      "----------------------------------------\n",
      "Classifying --> classifier: KNN, feature_type001, k: 02 ...\n"
     ]
    },
    {
     "data": {
      "text/html": [
       "<pre>+--------------+-------------+--------------+</pre>"
      ],
      "text/plain": [
       "+--------------+-------------+--------------+"
      ]
     },
     "metadata": {},
     "output_type": "display_data"
    },
    {
     "data": {
      "text/html": [
       "<pre>| Query points | % Complete. | Elapsed Time |</pre>"
      ],
      "text/plain": [
       "| Query points | % Complete. | Elapsed Time |"
      ]
     },
     "metadata": {},
     "output_type": "display_data"
    },
    {
     "data": {
      "text/html": [
       "<pre>+--------------+-------------+--------------+</pre>"
      ],
      "text/plain": [
       "+--------------+-------------+--------------+"
      ]
     },
     "metadata": {},
     "output_type": "display_data"
    },
    {
     "data": {
      "text/html": [
       "<pre>| 1            | 0           | 23.538ms     |</pre>"
      ],
      "text/plain": [
       "| 1            | 0           | 23.538ms     |"
      ]
     },
     "metadata": {},
     "output_type": "display_data"
    },
    {
     "data": {
      "text/html": [
       "<pre>| 50           | 4           | 1.14s        |</pre>"
      ],
      "text/plain": [
       "| 50           | 4           | 1.14s        |"
      ]
     },
     "metadata": {},
     "output_type": "display_data"
    },
    {
     "data": {
      "text/html": [
       "<pre>| 100          | 8           | 2.04s        |</pre>"
      ],
      "text/plain": [
       "| 100          | 8           | 2.04s        |"
      ]
     },
     "metadata": {},
     "output_type": "display_data"
    },
    {
     "data": {
      "text/html": [
       "<pre>| 141          | 11.25       | 3.04s        |</pre>"
      ],
      "text/plain": [
       "| 141          | 11.25       | 3.04s        |"
      ]
     },
     "metadata": {},
     "output_type": "display_data"
    },
    {
     "data": {
      "text/html": [
       "<pre>| 183          | 14.5        | 4.03s        |</pre>"
      ],
      "text/plain": [
       "| 183          | 14.5        | 4.03s        |"
      ]
     },
     "metadata": {},
     "output_type": "display_data"
    },
    {
     "data": {
      "text/html": [
       "<pre>| 231          | 18.5        | 5.06s        |</pre>"
      ],
      "text/plain": [
       "| 231          | 18.5        | 5.06s        |"
      ]
     },
     "metadata": {},
     "output_type": "display_data"
    },
    {
     "data": {
      "text/html": [
       "<pre>| 273          | 21.75       | 6.07s        |</pre>"
      ],
      "text/plain": [
       "| 273          | 21.75       | 6.07s        |"
      ]
     },
     "metadata": {},
     "output_type": "display_data"
    },
    {
     "data": {
      "text/html": [
       "<pre>| 319          | 25.5        | 7.08s        |</pre>"
      ],
      "text/plain": [
       "| 319          | 25.5        | 7.08s        |"
      ]
     },
     "metadata": {},
     "output_type": "display_data"
    },
    {
     "data": {
      "text/html": [
       "<pre>| 362          | 29          | 8.04s        |</pre>"
      ],
      "text/plain": [
       "| 362          | 29          | 8.04s        |"
      ]
     },
     "metadata": {},
     "output_type": "display_data"
    },
    {
     "data": {
      "text/html": [
       "<pre>| 401          | 32          | 9.07s        |</pre>"
      ],
      "text/plain": [
       "| 401          | 32          | 9.07s        |"
      ]
     },
     "metadata": {},
     "output_type": "display_data"
    },
    {
     "data": {
      "text/html": [
       "<pre>| 445          | 35.5        | 10.11s       |</pre>"
      ],
      "text/plain": [
       "| 445          | 35.5        | 10.11s       |"
      ]
     },
     "metadata": {},
     "output_type": "display_data"
    },
    {
     "data": {
      "text/html": [
       "<pre>| 481          | 38.5        | 11.05s       |</pre>"
      ],
      "text/plain": [
       "| 481          | 38.5        | 11.05s       |"
      ]
     },
     "metadata": {},
     "output_type": "display_data"
    },
    {
     "data": {
      "text/html": [
       "<pre>| 526          | 42          | 12.07s       |</pre>"
      ],
      "text/plain": [
       "| 526          | 42          | 12.07s       |"
      ]
     },
     "metadata": {},
     "output_type": "display_data"
    },
    {
     "data": {
      "text/html": [
       "<pre>| 568          | 45.5        | 13.09s       |</pre>"
      ],
      "text/plain": [
       "| 568          | 45.5        | 13.09s       |"
      ]
     },
     "metadata": {},
     "output_type": "display_data"
    },
    {
     "data": {
      "text/html": [
       "<pre>| 612          | 49          | 14.06s       |</pre>"
      ],
      "text/plain": [
       "| 612          | 49          | 14.06s       |"
      ]
     },
     "metadata": {},
     "output_type": "display_data"
    },
    {
     "data": {
      "text/html": [
       "<pre>| 646          | 51.75       | 15.06s       |</pre>"
      ],
      "text/plain": [
       "| 646          | 51.75       | 15.06s       |"
      ]
     },
     "metadata": {},
     "output_type": "display_data"
    },
    {
     "data": {
      "text/html": [
       "<pre>| 697          | 55.75       | 16.07s       |</pre>"
      ],
      "text/plain": [
       "| 697          | 55.75       | 16.07s       |"
      ]
     },
     "metadata": {},
     "output_type": "display_data"
    },
    {
     "data": {
      "text/html": [
       "<pre>| 738          | 59          | 17.09s       |</pre>"
      ],
      "text/plain": [
       "| 738          | 59          | 17.09s       |"
      ]
     },
     "metadata": {},
     "output_type": "display_data"
    },
    {
     "data": {
      "text/html": [
       "<pre>| 780          | 62.5        | 18.08s       |</pre>"
      ],
      "text/plain": [
       "| 780          | 62.5        | 18.08s       |"
      ]
     },
     "metadata": {},
     "output_type": "display_data"
    },
    {
     "data": {
      "text/html": [
       "<pre>| 830          | 66.5        | 19.12s       |</pre>"
      ],
      "text/plain": [
       "| 830          | 66.5        | 19.12s       |"
      ]
     },
     "metadata": {},
     "output_type": "display_data"
    },
    {
     "data": {
      "text/html": [
       "<pre>| 873          | 69.75       | 20.13s       |</pre>"
      ],
      "text/plain": [
       "| 873          | 69.75       | 20.13s       |"
      ]
     },
     "metadata": {},
     "output_type": "display_data"
    },
    {
     "data": {
      "text/html": [
       "<pre>| 912          | 73          | 21.08s       |</pre>"
      ],
      "text/plain": [
       "| 912          | 73          | 21.08s       |"
      ]
     },
     "metadata": {},
     "output_type": "display_data"
    },
    {
     "data": {
      "text/html": [
       "<pre>| 950          | 76          | 22.07s       |</pre>"
      ],
      "text/plain": [
       "| 950          | 76          | 22.07s       |"
      ]
     },
     "metadata": {},
     "output_type": "display_data"
    },
    {
     "data": {
      "text/html": [
       "<pre>| 1000         | 80          | 23.13s       |</pre>"
      ],
      "text/plain": [
       "| 1000         | 80          | 23.13s       |"
      ]
     },
     "metadata": {},
     "output_type": "display_data"
    },
    {
     "data": {
      "text/html": [
       "<pre>| 1044         | 83.5        | 24.14s       |</pre>"
      ],
      "text/plain": [
       "| 1044         | 83.5        | 24.14s       |"
      ]
     },
     "metadata": {},
     "output_type": "display_data"
    },
    {
     "data": {
      "text/html": [
       "<pre>| 1081         | 86.5        | 25.08s       |</pre>"
      ],
      "text/plain": [
       "| 1081         | 86.5        | 25.08s       |"
      ]
     },
     "metadata": {},
     "output_type": "display_data"
    },
    {
     "data": {
      "text/html": [
       "<pre>| 1134         | 90.75       | 26.10s       |</pre>"
      ],
      "text/plain": [
       "| 1134         | 90.75       | 26.10s       |"
      ]
     },
     "metadata": {},
     "output_type": "display_data"
    },
    {
     "data": {
      "text/html": [
       "<pre>| 1190         | 95.25       | 27.27s       |</pre>"
      ],
      "text/plain": [
       "| 1190         | 95.25       | 27.27s       |"
      ]
     },
     "metadata": {},
     "output_type": "display_data"
    },
    {
     "data": {
      "text/html": [
       "<pre>| 1219         | 97.5        | 28.08s       |</pre>"
      ],
      "text/plain": [
       "| 1219         | 97.5        | 28.08s       |"
      ]
     },
     "metadata": {},
     "output_type": "display_data"
    }
   ],
   "source": [
    "# input parameters\n",
    "#=================================\n",
    "classifier_list = ['KNN']\n",
    "#=================================\n",
    "\n",
    "window_length_list = [100, 150, 200, 250, 300]\n",
    "window_step = 50\n",
    "feature_type_list = [1, 2, 3, 12, 13, 23, 123]  # 1: dg, 2: cc, 3: pl, 12: dg+cc, 13: dg+pl, 23: cc+pl, 123: dg+cc+pl\n",
    "k_list    = range(1,11)\n",
    "\n",
    "for mouse_id_test in range(6,7):\n",
    "\n",
    "    for win_ln_idx in range(len(window_length_list)): # NOTE HERE!!!!! REMOVE \"1\" AFTER THIS SESSION!!!!!!!!!!!!!\n",
    "        window_length = window_length_list[win_ln_idx]\n",
    "        \n",
    "        ##========================= load features\n",
    "        # print on screen: progress\n",
    "        current_progress = (\"\\n========================================\\nLoading features for testing mouse%02d, window_length%03d ...\\n\" \\\n",
    "                            % (mouse_id_test, window_length))\n",
    "        print current_progress\n",
    "\n",
    "        # load and organize feature matrix\n",
    "        comb_train, comb_test = lz_load_feature_matrix_across_subject(mouse_id_test, window_length, window_step)       \n",
    "        \n",
    "        for classifier_idx in range(len(classifier_list)):\n",
    "            classifier = classifier_list[classifier_idx]\n",
    "\n",
    "            # initiate\n",
    "            AC = [[0] * len(k_list) for _ in range(len(feature_type_list))] \n",
    "            SE = [[0] * len(k_list) for _ in range(len(feature_type_list))] \n",
    "            SP = [[0] * len(k_list) for _ in range(len(feature_type_list))] \n",
    "\n",
    "            for feature_type_idx in range(len(feature_type_list)):\n",
    "                feature_type = feature_type_list[feature_type_idx]\n",
    "\n",
    "                ##========================= classification\n",
    "                for k_idx in range(len(k_list)):\n",
    "                    k = k_list[k_idx]                    \n",
    "\n",
    "                    # print on screen: progress\n",
    "                    current_progress = (\"\\n----------------------------------------\\nClassifying --> classifier: %s, feature_type%03d, k: %02d ...\" \\\n",
    "                                        % (classifier, feature_type, k))\n",
    "                    print current_progress\n",
    "\n",
    "                    if classifier == 'LR':\n",
    "                        AC[feature_type_idx][l2_penalty_idx],SE[feature_type_idx][l2_penalty_idx],SP[feature_type_idx][l2_penalty_idx] = \\\n",
    "                            lz_logistic_across_subjects_AC_SE_SP(comb_train, comb_test, feature_type, l2_penalty, l1_penalty)\n",
    "                    if classifier == 'SVM':\n",
    "                        AC[feature_type_idx][l2_penalty_idx],SE[feature_type_idx][l2_penalty_idx],SP[feature_type_idx][l2_penalty_idx] = \\\n",
    "                            lz_svm_across_subjects_AC_SE_SP(comb_train, comb_test, feature_type, l2_penalty)\n",
    "                    # if classifier == 'RF'\n",
    "                        # ...\n",
    "                    if classifier == 'KNN':\n",
    "                        AC[feature_type_idx][k_idx],SE[feature_type_idx][k_idx],SP[feature_type_idx][k_idx] = \\\n",
    "                            lz_KNN_across_subjects_AC_SE_SP(comb_train, comb_test, feature_type, k)\n",
    "\n",
    "            ##====================== save results\n",
    "            AC_saveName = (\"%s_across_subject_test_mouse%02d_window_length%03d_AC.csv\" \\\n",
    "                           % (classifier,mouse_id_test,window_length))\n",
    "            SE_saveName = (\"%s_across_subject_test_mouse%02d_window_length%03d_SE.csv\" \\\n",
    "                           % (classifier,mouse_id_test,window_length))\n",
    "            SP_saveName = (\"%s_across_subject_test_mouse%02d_window_length%03d_SP.csv\" \\\n",
    "                           % (classifier,mouse_id_test,window_length))\n",
    "            df_AC = pd.DataFrame(AC)\n",
    "            df_SE = pd.DataFrame(SE)        \n",
    "            df_SP = pd.DataFrame(SP)  \n",
    "            \n",
    "            os.chdir(\"/Users/lizhu/Dropbox/projects/calcium/classification_result/across_subject\") \n",
    "            df_AC.to_csv(AC_saveName, index = False, header = False)\n",
    "            df_SE.to_csv(SE_saveName, index = False, header = False)\n",
    "            df_SP.to_csv(SP_saveName, index = False, header = False)"
   ]
  },
  {
   "cell_type": "code",
   "execution_count": 2,
   "metadata": {
    "collapsed": false
   },
   "outputs": [],
   "source": [
    "# load and organize feature matrix\n",
    "def lz_load_feature_matrix_across_subject(mouse_id_test, window_length, window_step):\n",
    "    # the mouse_id is the one that saved for the testing set\n",
    "    # the mice other than the mouse_id are used for the training set\n",
    "    \n",
    "    mouse_id_full = range(1,7)\n",
    "    mouse_id_trian = np.delete(mouse_id_full, mouse_id_test-1)\n",
    "    mouse_id_train = list(mouse_id_trian)\n",
    "    \n",
    "    # load training dataset\n",
    "    idx = 0\n",
    "    for mouse_id_load in mouse_id_train:\n",
    "        idx = idx + 1\n",
    "        fileName = \"format4ML_GC6f_emx_0\" + str(mouse_id_load) + \"_windowLen\" + str(window_length) + \"_winStep_0\" + str(window_step) + \"_v2_threshold_10.csv\"\n",
    "        loadPath = \"/Users/lizhu/Dropbox/projects/calcium/format4ML/\" + fileName\n",
    "#         current_progress = (\"\\n----------------------------------------\\nloaded--> mouse_id: %s ...\" \\\n",
    "#                                         % (mouse_id_load))\n",
    "#         print current_progress\n",
    "        comb = gl.SFrame.read_csv(loadPath, delimiter=',',header=False,verbose = False)\n",
    "        colName_dg = 'degree'\n",
    "        colName_dg = gl.SArray([colName_dg + repr(i+1) for i in range(30)])\n",
    "        colName_cc = 'clusteringCoef'\n",
    "        colName_cc = gl.SArray([colName_cc + repr(i+1) for i in range(30)])\n",
    "        colName_pl = 'pathlength'\n",
    "        colName_pl = gl.SArray([colName_pl + repr(i+1) for i in range(30)])\n",
    "        colName = colName_dg.append(colName_cc.append(colName_pl.append(gl.SArray(['Whisker']))))\n",
    "        colName = (list(colName))\n",
    "        dictionary = dict(zip(comb.column_names(), colName))\n",
    "        comb = comb.rename(dictionary)\n",
    "        comb = gl.toolkits.cross_validation.shuffle(comb, random_seed=1)\n",
    "        # comb_train['Whisker'].show(view = 'Categorical')\n",
    "        \n",
    "        if idx == 1:\n",
    "            comb_train = comb\n",
    "        else:\n",
    "            comb_train = comb_train.append(comb)\n",
    "                    \n",
    "    # load testing dataset\n",
    "    fileName = \"format4ML_GC6f_emx_0\" + str(mouse_id_test) + \"_windowLen\" + str(window_length) + \"_winStep_0\" + str(window_step) + \"_v2_threshold_10.csv\"\n",
    "    loadPath = \"/Users/lizhu/Dropbox/projects/calcium/format4ML/\" + fileName\n",
    "#     current_progress = (\"\\n----------------------------------------\\nloaded--> mouse_id: %s ...\" \\\n",
    "#                                         % (mouse_id_test))\n",
    "#     print current_progress\n",
    "    comb = gl.SFrame.read_csv(loadPath, delimiter=',',header=False,verbose = False)\n",
    "    colName_dg = 'degree'\n",
    "    colName_dg = gl.SArray([colName_dg + repr(i+1) for i in range(30)])\n",
    "    colName_cc = 'clusteringCoef'\n",
    "    colName_cc = gl.SArray([colName_cc + repr(i+1) for i in range(30)])\n",
    "    colName_pl = 'pathlength'\n",
    "    colName_pl = gl.SArray([colName_pl + repr(i+1) for i in range(30)])\n",
    "    colName = colName_dg.append(colName_cc.append(colName_pl.append(gl.SArray(['Whisker']))))\n",
    "    colName = (list(colName))\n",
    "    dictionary = dict(zip(comb.column_names(), colName))\n",
    "    comb = comb.rename(dictionary)\n",
    "    comb_test = gl.toolkits.cross_validation.shuffle(comb, random_seed=1)\n",
    "        \n",
    "    \n",
    "    return comb_train, comb_test"
   ]
  },
  {
   "cell_type": "code",
   "execution_count": 3,
   "metadata": {
    "collapsed": true
   },
   "outputs": [],
   "source": [
    "# train and cross-validation\n",
    "def lz_KNN_across_subjects_AC_SE_SP(data_train, data_test, feature_type, k):\n",
    "    \n",
    "    # clearify features\n",
    "    feature_dg = data_train.column_names()[0:30] # feature 1~30: degree, 31~60: clustering coefficient, 60~90: pathlength\n",
    "    feature_cc = data_train.column_names()[30:60]\n",
    "    feature_pl = data_train.column_names()[60:90]\n",
    "    \n",
    "    if feature_type == 1:   feature = feature_dg\n",
    "    if feature_type == 2:   feature = feature_cc\n",
    "    if feature_type == 3:   feature = feature_pl\n",
    "    if feature_type == 12:  feature = feature_dg + feature_cc\n",
    "    if feature_type == 13:  feature = feature_dg + feature_pl\n",
    "    if feature_type == 23:  feature = feature_cc + feature_pl\n",
    "    if feature_type == 123: feature = feature_dg + feature_cc + feature_pl\n",
    "     \n",
    "    m = gl.nearest_neighbor_classifier.create(data_train,\n",
    "                                              target = 'Whisker',\n",
    "                                              features = feature,\n",
    "                                              distance = 'euclidean',\n",
    "                                              verbose = False)\n",
    "    confusion_matrix = m.evaluate(data_test, 'confusion_matrix', max_neighbors = k)\n",
    "    confusion_matrix = confusion_matrix.values()[0]\n",
    "\n",
    "    TP, TN, FP, FN = lz_extract_ACC_SE_SP(confusion_matrix)\n",
    "\n",
    "    SP = float(TN) / (TN + FP)\n",
    "    SE = float(TP) / (TP + FN)\n",
    "    AC = float(TP+TN) / (TP+TN+FP+FN)\n",
    "    \n",
    "    print 'AC = ', AC\n",
    "    print 'SE = ', SE\n",
    "    print 'SP = ', SP\n",
    "    \n",
    "    return AC, SE, SP"
   ]
  },
  {
   "cell_type": "code",
   "execution_count": 4,
   "metadata": {
    "collapsed": false
   },
   "outputs": [],
   "source": [
    "# train and cross-validation\n",
    "def lz_logistic_across_subjects_AC_SE_SP(data_train, data_test, feature_type, l2_penalty, l1_penalty):\n",
    "    \n",
    "    # clearify features\n",
    "    feature_dg = data_train.column_names()[0:30] # feature 1~30: degree, 31~60: clustering coefficient, 60~90: pathlength\n",
    "    feature_cc = data_train.column_names()[30:60]\n",
    "    feature_pl = data_train.column_names()[60:90]\n",
    "    \n",
    "    if feature_type == 1:   feature = feature_dg\n",
    "    if feature_type == 2:   feature = feature_cc\n",
    "    if feature_type == 3:   feature = feature_pl\n",
    "    if feature_type == 12:  feature = feature_dg + feature_cc\n",
    "    if feature_type == 13:  feature = feature_dg + feature_pl\n",
    "    if feature_type == 23:  feature = feature_cc + feature_pl\n",
    "    if feature_type == 123: feature = feature_dg + feature_cc + feature_pl\n",
    "\n",
    "    m = gl.logistic_classifier.create(data_train,\n",
    "                                      target='Whisker',\n",
    "                                      features=feature,\n",
    "                                      l2_penalty = l2_penalty, \n",
    "                                      l1_penalty = l1_penalty,\n",
    "                                      validation_set=None,\n",
    "                                      verbose = False)\n",
    "    confusion_matrix = m.evaluate(data_test, 'confusion_matrix')\n",
    "    confusion_matrix = confusion_matrix.values()[0]\n",
    "\n",
    "    TP, TN, FP, FN = lz_extract_ACC_SE_SP(confusion_matrix)\n",
    "\n",
    "    SP = float(TN) / (TN + FP)\n",
    "    SE = float(TP) / (TP + FN)\n",
    "    AC = float(TP+TN) / (TP+TN+FP+FN)\n",
    "    \n",
    "    print 'AC = ', AC\n",
    "    print 'SE = ', SE\n",
    "    print 'SP = ', SP\n",
    "    \n",
    "    return AC, SE, SP"
   ]
  },
  {
   "cell_type": "code",
   "execution_count": 6,
   "metadata": {
    "collapsed": false
   },
   "outputs": [],
   "source": [
    "def lz_extract_ACC_SE_SP(confusion_matrix):\n",
    "    TP = confusion_matrix[(confusion_matrix['target_label']==1) & (confusion_matrix['predicted_label']==1)]\n",
    "    if np.size(TP) == 0:\n",
    "        TP = 0\n",
    "    else:\n",
    "        TP = TP['count'][0]\n",
    "    TN = confusion_matrix[(confusion_matrix['target_label']==0) & (confusion_matrix['predicted_label']==0)]\n",
    "    if np.size(TN) == 0:\n",
    "        TN = 0\n",
    "    else:\n",
    "        TN = TN['count'][0]\n",
    "    FP = confusion_matrix[(confusion_matrix['target_label']==0) & (confusion_matrix['predicted_label']==1)]\n",
    "    if np.size(FP) == 0:\n",
    "        FP = 0\n",
    "    else:\n",
    "        FP = FP['count'][0]\n",
    "    FN = confusion_matrix[(confusion_matrix['target_label']==1) & (confusion_matrix['predicted_label']==0)]\n",
    "    if np.size(FN) == 0:\n",
    "        FN = 0\n",
    "    else:\n",
    "        FN = FN['count'][0]\n",
    "    \n",
    "    return TP, TN, FP, FN"
   ]
  }
 ],
 "metadata": {
  "kernelspec": {
   "display_name": "Python 2",
   "language": "python",
   "name": "python2"
  },
  "language_info": {
   "codemirror_mode": {
    "name": "ipython",
    "version": 2
   },
   "file_extension": ".py",
   "mimetype": "text/x-python",
   "name": "python",
   "nbconvert_exporter": "python",
   "pygments_lexer": "ipython2",
   "version": "2.7.11"
  }
 },
 "nbformat": 4,
 "nbformat_minor": 0
}
